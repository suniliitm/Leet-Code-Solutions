{
 "cells": [
  {
   "cell_type": "code",
   "execution_count": null,
   "id": "323cd242-429b-4ecc-8b8c-af17a4ad9a4e",
   "metadata": {},
   "outputs": [],
   "source": [
    "# Seven different symbols represent Roman numerals with the following values:\n",
    "\n",
    "# Symbol\tValue\n",
    "# I\t1\n",
    "# V\t5\n",
    "# X\t10\n",
    "# L\t50\n",
    "# C\t100\n",
    "# D\t500\n",
    "# M\t1000\n",
    "# Roman numerals are formed by appending the conversions of decimal place values from highest to lowest. Converting a decimal place value into a Roman numeral has the following rules:\n",
    "\n",
    "# If the value does not start with 4 or 9, select the symbol of the maximal value that can be subtracted from the input, append that symbol to the result, subtract its value, and convert the remainder to a Roman numeral.\n",
    "# If the value starts with 4 or 9 use the subtractive form representing one symbol subtracted from the following symbol, for example, 4 is 1 (I) less than 5 (V): IV and 9 is 1 (I) less than 10 (X): IX. Only the following subtractive forms are used: 4 (IV), 9 (IX), 40 (XL), 90 (XC), 400 (CD) and 900 (CM).\n",
    "# Only powers of 10 (I, X, C, M) can be appended consecutively at most 3 times to represent multiples of 10. You cannot append 5 (V), 50 (L), or 500 (D) multiple times. If you need to append a symbol 4 times use the subtractive form.\n",
    "# Given an integer, convert it to a Roman numeral.\n",
    "\n",
    " \n",
    "\n",
    "# Example 1:\n",
    "\n",
    "# Input: num = 3749\n",
    "\n",
    "# Output: \"MMMDCCXLIX\"\n",
    "\n",
    "# Explanation:\n",
    "\n",
    "# 3000 = MMM as 1000 (M) + 1000 (M) + 1000 (M)\n",
    "#  700 = DCC as 500 (D) + 100 (C) + 100 (C)\n",
    "#   40 = XL as 10 (X) less of 50 (L)\n",
    "#    9 = IX as 1 (I) less of 10 (X)\n",
    "# Note: 49 is not 1 (I) less of 50 (L) because the conversion is based on decimal places\n",
    "# Example 2:\n",
    "\n",
    "# Input: num = 58\n",
    "\n",
    "# Output: \"LVIII\"\n",
    "\n",
    "# Explanation:\n",
    "\n",
    "# 50 = L\n",
    "#  8 = VIII\n",
    "# Example 3:\n",
    "\n",
    "# Input: num = 1994\n",
    "\n",
    "# Output: \"MCMXCIV\"\n",
    "\n",
    "# Explanation:\n",
    "\n",
    "# 1000 = M\n",
    "#  900 = CM\n",
    "#   90 = XC\n",
    "#    4 = IV\n",
    " \n",
    "\n",
    "# Constraints:\n",
    "\n",
    "# 1 <= num <= 3999"
   ]
  },
  {
   "cell_type": "code",
   "execution_count": 9,
   "id": "40d98d1c-3fcb-4776-9d4e-2fcddd7cef09",
   "metadata": {},
   "outputs": [
    {
     "data": {
      "text/plain": [
       "'MCMXCIV'"
      ]
     },
     "execution_count": 9,
     "metadata": {},
     "output_type": "execute_result"
    }
   ],
   "source": [
    "def integer_Roman(nums):\n",
    "    dict = {\"M\": 1000, \"CM\": 900, \"D\":500, \"CD\":400, \"C\":100, \"XC\": 90, \"L\":50, \"XL\": 40, \"X\":10, \"IX\":9,\n",
    "             \"V\":5, \"IV\":4, \"I\":1}\n",
    "    res = \"\"\n",
    "    for key in dict:\n",
    "        num = nums // dict[key]\n",
    "        res += key * num\n",
    "        nums = nums % dict[key]\n",
    "    return res\n",
    "\n",
    "nums = 1994\n",
    "integer_Roman(nums)"
   ]
  },
  {
   "cell_type": "code",
   "execution_count": null,
   "id": "f5fb542e-9547-4083-b8cb-146f2e30f3de",
   "metadata": {},
   "outputs": [],
   "source": []
  }
 ],
 "metadata": {
  "kernelspec": {
   "display_name": "Python 3 (ipykernel)",
   "language": "python",
   "name": "python3"
  },
  "language_info": {
   "codemirror_mode": {
    "name": "ipython",
    "version": 3
   },
   "file_extension": ".py",
   "mimetype": "text/x-python",
   "name": "python",
   "nbconvert_exporter": "python",
   "pygments_lexer": "ipython3",
   "version": "3.9.16"
  }
 },
 "nbformat": 4,
 "nbformat_minor": 5
}
