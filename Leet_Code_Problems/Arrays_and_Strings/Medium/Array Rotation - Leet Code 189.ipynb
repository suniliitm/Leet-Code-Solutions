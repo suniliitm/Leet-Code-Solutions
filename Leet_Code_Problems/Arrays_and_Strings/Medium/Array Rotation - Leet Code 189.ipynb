{
 "cells": [
  {
   "cell_type": "code",
   "execution_count": null,
   "id": "18b2eb43-20e9-4b5d-999e-4f808cf89eac",
   "metadata": {},
   "outputs": [],
   "source": [
    "# Given an integer array nums, rotate the array to the right by k steps, where k is non-negative.\n",
    "\n",
    " \n",
    "\n",
    "# Example 1:\n",
    "\n",
    "# Input: nums = [1,2,3,4,5,6,7], k = 3\n",
    "# Output: [5,6,7,1,2,3,4]\n",
    "# Explanation:\n",
    "# rotate 1 steps to the right: [7,1,2,3,4,5,6]\n",
    "# rotate 2 steps to the right: [6,7,1,2,3,4,5]\n",
    "# rotate 3 steps to the right: [5,6,7,1,2,3,4]\n",
    "# Example 2:\n",
    "\n",
    "# Input: nums = [-1,-100,3,99], k = 2\n",
    "# Output: [3,99,-1,-100]\n",
    "# Explanation: \n",
    "# rotate 1 steps to the right: [99,-1,-100,3]\n",
    "# rotate 2 steps to the right: [3,99,-1,-100]\n",
    " \n",
    "\n",
    "# Constraints:\n",
    "\n",
    "# 1 <= nums.length <= 105\n",
    "# -231 <= nums[i] <= 231 - 1\n",
    "# 0 <= k <= 105\n",
    " \n",
    "\n",
    "# Follow up:\n",
    "\n",
    "# Try to come up with as many solutions as you can. There are at least three different ways to solve this problem.\n",
    "# Could you do it in-place with O(1) extra space?"
   ]
  },
  {
   "cell_type": "code",
   "execution_count": 20,
   "id": "ce5bb8b1-d0c4-4ddf-a22f-231698908227",
   "metadata": {},
   "outputs": [
    {
     "data": {
      "text/plain": [
       "[5, 6, 7, 1, 2, 3, 4]"
      ]
     },
     "execution_count": 20,
     "metadata": {},
     "output_type": "execute_result"
    }
   ],
   "source": [
    "#nums = [1,2,3,4,5,6,7]\n",
    "def arrayRotation(nums,k):\n",
    "    k=k%len(nums)\n",
    "    nums[:] = nums[-k:]+nums[:-k]\n",
    "    return nums\n",
    "\n",
    "\n",
    "nums = [1,2,3,4,5,6,7]\n",
    "arrayRotation(nums,10)\n"
   ]
  },
  {
   "cell_type": "code",
   "execution_count": 30,
   "id": "953c8139-fad6-47e7-ab54-8d84a94ddb8c",
   "metadata": {},
   "outputs": [
    {
     "data": {
      "text/plain": [
       "[9, 10, 5, 6, 7, 8]"
      ]
     },
     "execution_count": 30,
     "metadata": {},
     "output_type": "execute_result"
    }
   ],
   "source": [
    "# nums2=[5,6,7,8,9,10]\n",
    "# nums2[:]=[nums2.pop()]+nums2[:-1]\n",
    "# nums2\n",
    "def arrayRot(nums,k):\n",
    "    k = k%len(nums)\n",
    "    for i in range(1,k+1):\n",
    "        nums[:] = [nums.pop()] + nums\n",
    "    return nums\n",
    "\n",
    "nums2=[5,6,7,8,9,10]\n",
    "k=2\n",
    "arrayRot(nums2,k)\n"
   ]
  },
  {
   "cell_type": "code",
   "execution_count": null,
   "id": "9843a3be-6153-4a18-9815-229e3f534ae0",
   "metadata": {},
   "outputs": [],
   "source": []
  }
 ],
 "metadata": {
  "kernelspec": {
   "display_name": "Python 3 (ipykernel)",
   "language": "python",
   "name": "python3"
  },
  "language_info": {
   "codemirror_mode": {
    "name": "ipython",
    "version": 3
   },
   "file_extension": ".py",
   "mimetype": "text/x-python",
   "name": "python",
   "nbconvert_exporter": "python",
   "pygments_lexer": "ipython3",
   "version": "3.9.16"
  }
 },
 "nbformat": 4,
 "nbformat_minor": 5
}
