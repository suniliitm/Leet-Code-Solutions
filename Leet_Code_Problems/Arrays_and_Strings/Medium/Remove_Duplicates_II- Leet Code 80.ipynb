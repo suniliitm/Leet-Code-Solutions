{
 "cells": [
  {
   "cell_type": "code",
   "execution_count": null,
   "id": "2d1d345d-8508-4806-a251-7a75e8b79a0f",
   "metadata": {},
   "outputs": [],
   "source": [
    "# Given an integer array nums sorted in non-decreasing order, remove some duplicates in-place such that each unique element \n",
    "# appears at most twice. The relative order of the elements should be kept the same.\n",
    "\n",
    "# Example 1:\n",
    "\n",
    "# Input: nums = [1,1,1,2,2,3]\n",
    "# Output: 5, nums = [1,1,2,2,3,_]\n",
    "# Explanation: Your function should return k = 5, with the first five elements of nums being 1, 1, 2, 2 and 3 respectively.\n",
    "# It does not matter what you leave beyond the returned k (hence they are underscores).\n",
    "# Example 2:\n",
    "\n",
    "# Input: nums = [0,0,1,1,1,1,2,3,3]\n",
    "# Output: 7, nums = [0,0,1,1,2,3,3,_,_]\n",
    "# Explanation: Your function should return k = 7, with the first seven elements of nums being 0, 0, 1, 1, 2, 3 and 3 respectively.\n",
    "# It does not matter what you leave beyond the returned k (hence they are underscores)."
   ]
  },
  {
   "cell_type": "code",
   "execution_count": 1,
   "id": "8e59131c-11ed-431c-b631-856eb5f781f2",
   "metadata": {},
   "outputs": [
    {
     "data": {
      "text/plain": [
       "5"
      ]
     },
     "execution_count": 1,
     "metadata": {},
     "output_type": "execute_result"
    }
   ],
   "source": [
    "def rem_Duplicates(nums):\n",
    "\n",
    "    k=1\n",
    "    count=1\n",
    "    for i in range(1,len(nums)):\n",
    "        if nums[i]==nums[i-1]:\n",
    "            count+=1\n",
    "        else:\n",
    "            count=1\n",
    "            \n",
    "        if count<=2:\n",
    "            nums[k]=nums[i]     \n",
    "            k+=1 \n",
    "            \n",
    "    return k\n",
    "\n",
    "nums1 = [0,0,1,1,1,1,2,3,3]\n",
    "nums2 = [1,1,1,2,2,3]\n",
    "rem_Duplicates(nums2)\n"
   ]
  },
  {
   "cell_type": "code",
   "execution_count": null,
   "id": "2a6d6b44-d472-4bc1-a4bc-fbd49b09548d",
   "metadata": {},
   "outputs": [],
   "source": []
  }
 ],
 "metadata": {
  "kernelspec": {
   "display_name": "Python 3 (ipykernel)",
   "language": "python",
   "name": "python3"
  },
  "language_info": {
   "codemirror_mode": {
    "name": "ipython",
    "version": 3
   },
   "file_extension": ".py",
   "mimetype": "text/x-python",
   "name": "python",
   "nbconvert_exporter": "python",
   "pygments_lexer": "ipython3",
   "version": "3.9.16"
  }
 },
 "nbformat": 4,
 "nbformat_minor": 5
}
