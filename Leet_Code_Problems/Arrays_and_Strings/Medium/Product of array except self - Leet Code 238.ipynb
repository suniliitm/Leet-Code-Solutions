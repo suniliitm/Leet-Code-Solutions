{
 "cells": [
  {
   "cell_type": "code",
   "execution_count": 9,
   "id": "b3b6aa33-e9c8-468b-bce7-4052aea7721c",
   "metadata": {},
   "outputs": [
    {
     "name": "stdout",
     "output_type": "stream",
     "text": [
      "[2, 3, 4, 5, 6, 7, 8, 9]\n"
     ]
    }
   ],
   "source": [
    "nums = [1,2,3,4,5,6,7,8,9]\n",
    "product =1\n",
    "answer=[]\n",
    "answer=product * nums[1:]\n",
    "print(answer)\n",
    "# k=4\n",
    "# print(nums[:0])\n",
    "# print(nums[len(nums)-1:])\n",
    "# n=[]\n",
    "# n*4\n",
    "\n"
   ]
  },
  {
   "cell_type": "code",
   "execution_count": 5,
   "id": "07fe48e6-da2d-4b09-92d7-98336edfe0f6",
   "metadata": {},
   "outputs": [
    {
     "ename": "SyntaxError",
     "evalue": "invalid syntax (49784824.py, line 11)",
     "output_type": "error",
     "traceback": [
      "\u001b[0;36m  Cell \u001b[0;32mIn[5], line 11\u001b[0;36m\u001b[0m\n\u001b[0;31m    else:\u001b[0m\n\u001b[0m    ^\u001b[0m\n\u001b[0;31mSyntaxError\u001b[0m\u001b[0;31m:\u001b[0m invalid syntax\n"
     ]
    }
   ],
   "source": [
    "def product_Except_Self(nums):\n",
    "    answer = []\n",
    "    product = 1\n",
    "    for i in range(len(nums)):\n",
    "        if i not in [0, len(nums)-1];\n",
    "            product *= (nums[:i] * nums[i:])\n",
    "            answer[i]=product\n",
    "        if i == 0:\n",
    "            answer[i] = product \n",
    "            \n",
    "            \n",
    "        \n",
    "    return answer\n",
    "\n",
    "\n",
    "nums = [1,2,3,4]\n",
    "product_Except_Self(nums)\n",
    "            \n",
    "        \n",
    "            \n",
    "        "
   ]
  },
  {
   "cell_type": "code",
   "execution_count": null,
   "id": "d6794f27-d86c-4345-87b2-12af0ae85b02",
   "metadata": {},
   "outputs": [],
   "source": []
  }
 ],
 "metadata": {
  "kernelspec": {
   "display_name": "Python 3 (ipykernel)",
   "language": "python",
   "name": "python3"
  },
  "language_info": {
   "codemirror_mode": {
    "name": "ipython",
    "version": 3
   },
   "file_extension": ".py",
   "mimetype": "text/x-python",
   "name": "python",
   "nbconvert_exporter": "python",
   "pygments_lexer": "ipython3",
   "version": "3.9.16"
  }
 },
 "nbformat": 4,
 "nbformat_minor": 5
}
