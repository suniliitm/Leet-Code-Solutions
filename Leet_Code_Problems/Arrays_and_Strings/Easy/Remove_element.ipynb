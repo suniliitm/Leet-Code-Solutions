{
 "cells": [
  {
   "cell_type": "code",
   "execution_count": null,
   "id": "7a91d7ea-6249-4d5f-879b-02353d04188b",
   "metadata": {},
   "outputs": [],
   "source": [
    "# Example 1:\n",
    "\n",
    "# Input: nums = [3,2,2,3], val = 3\n",
    "# Output: 2, nums = [2,2,_,_]\n",
    "# Explanation: Your function should return k = 2, with the first two elements of nums being 2.\n",
    "# It does not matter what you leave beyond the returned k (hence they are underscores).\n",
    "# Example 2:\n",
    "\n",
    "# Input: nums = [0,1,2,2,3,0,4,2], val = 2\n",
    "# Output: 5, nums = [0,1,4,0,3,_,_,_]\n",
    "# Explanation: Your function should return k = 5, with the first five elements of nums containing 0, 0, 1, 3, and 4.\n",
    "# Note that the five elements can be returned in any order.\n",
    "# It does not matter what you leave beyond the returned k (hence they are underscores).\n"
   ]
  },
  {
   "cell_type": "code",
   "execution_count": 3,
   "id": "6927bdd9-0794-4fbc-abbf-6621626324fa",
   "metadata": {},
   "outputs": [
    {
     "data": {
      "text/plain": [
       "(4, [1, 2, 4, 5])"
      ]
     },
     "execution_count": 3,
     "metadata": {},
     "output_type": "execute_result"
    }
   ],
   "source": [
    "def remove_Val(nums,val):      # The problem only ask for the return of k - the number of elem after removing Val (given)\n",
    "    k=0    \n",
    "    for i in range(len(nums)):\n",
    "        if nums[i]!=val:\n",
    "            nums[k]=nums[i]\n",
    "            k+=1\n",
    "    \n",
    "    return k, nums[:k]\n",
    "\n",
    "nums=[1,2,3,3,4,5]\n",
    "remove_Val(nums,3)\n",
    "\n",
    "    "
   ]
  },
  {
   "cell_type": "code",
   "execution_count": 12,
   "id": "236ada31-ccd7-44dc-8119-83e45bbc4ef2",
   "metadata": {},
   "outputs": [
    {
     "name": "stdout",
     "output_type": "stream",
     "text": [
      "4 [1, 2, 4, 5]\n"
     ]
    }
   ],
   "source": [
    "l1=[1,2,3,3,4,5]\n",
    "val=3\n",
    "def remove_val(l1,val):\n",
    "    c=len(l1)\n",
    "    while val in l1:\n",
    "        l1.remove(val)\n",
    "        c-=1\n",
    "    print(c,l1)\n",
    "\n",
    "\n",
    "\n",
    "remove_val(l1,val)"
   ]
  },
  {
   "cell_type": "code",
   "execution_count": 30,
   "id": "cff8c37a-ecbf-47c9-828d-ded101b308aa",
   "metadata": {},
   "outputs": [],
   "source": [
    "# https://www.youtube.com/watch?v=P1Ic85RarKY&t=39s\n",
    "\n",
    "# this is not for the above problem but for merging"
   ]
  },
  {
   "cell_type": "code",
   "execution_count": null,
   "id": "2dd42c11-8b77-4078-a8d0-df9aabcb4d74",
   "metadata": {},
   "outputs": [],
   "source": []
  }
 ],
 "metadata": {
  "kernelspec": {
   "display_name": "Python 3 (ipykernel)",
   "language": "python",
   "name": "python3"
  },
  "language_info": {
   "codemirror_mode": {
    "name": "ipython",
    "version": 3
   },
   "file_extension": ".py",
   "mimetype": "text/x-python",
   "name": "python",
   "nbconvert_exporter": "python",
   "pygments_lexer": "ipython3",
   "version": "3.9.16"
  }
 },
 "nbformat": 4,
 "nbformat_minor": 5
}
