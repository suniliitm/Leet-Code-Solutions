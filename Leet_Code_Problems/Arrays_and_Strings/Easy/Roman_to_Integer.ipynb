{
 "cells": [
  {
   "cell_type": "code",
   "execution_count": null,
   "id": "c8953735-4f60-4f94-aa80-7ffc91516ebc",
   "metadata": {},
   "outputs": [],
   "source": [
    "# Roman numerals are represented by seven different symbols: I, V, X, L, C, D and M.\n",
    "\n",
    "# Symbol       Value\n",
    "# I             1\n",
    "# V             5\n",
    "# X             10\n",
    "# L             50\n",
    "# C             100\n",
    "# D             500\n",
    "# M             1000\n",
    "# For example, 2 is written as II in Roman numeral, just two ones added together. 12 is written as XII, which is simply\n",
    "# X + II. The number 27 is written as XXVII, which is XX + V + II.\n",
    "\n",
    "# Roman numerals are usually written largest to smallest from left to right. However, the numeral for four is not IIII. \n",
    "# Instead, the number four is written as IV. Because the one is before the five we subtract it making four. The same \n",
    "# principle applies to the number nine, which is written as IX. There are six instances where subtraction is used:\n",
    "\n",
    "# I can be placed before V (5) and X (10) to make 4 and 9. \n",
    "# X can be placed before L (50) and C (100) to make 40 and 90. \n",
    "# C can be placed before D (500) and M (1000) to make 400 and 900.\n",
    "# Given a roman numeral, convert it to an integer.\n",
    "\n",
    " \n",
    "\n",
    "# Example 1:\n",
    "\n",
    "# Input: s = \"III\"\n",
    "# Output: 3\n",
    "# Explanation: III = 3.\n",
    "# Example 2:\n",
    "\n",
    "# Input: s = \"LVIII\"\n",
    "# Output: 58\n",
    "# Explanation: L = 50, V= 5, III = 3.\n",
    "# Example 3:\n",
    "\n",
    "# Input: s = \"MCMXCIV\"\n",
    "# Output: 1994\n",
    "# Explanation: M = 1000, CM = 900, XC = 90 and IV = 4."
   ]
  },
  {
   "cell_type": "code",
   "execution_count": 10,
   "id": "586da6d0-c2e6-4821-a6ca-a96037239be3",
   "metadata": {},
   "outputs": [
    {
     "data": {
      "text/plain": [
       "58"
      ]
     },
     "execution_count": 10,
     "metadata": {},
     "output_type": "execute_result"
    }
   ],
   "source": [
    "def roman_To_Integer(str):\n",
    "    roman={'I':1,'V':5, 'X':10, 'L':50, 'C':100, 'D':500, 'M':1000}\n",
    "    res=0\n",
    "    for i in range(len(str)):\n",
    "        if i+1<len(str) and roman[str[i]]<roman[str[i+1]]:\n",
    "            res-=roman[str[i]]\n",
    "        else:\n",
    "            res+=roman[str[i]]\n",
    "            \n",
    "    return res\n",
    "\n",
    "\n",
    "s= 'LVIII'\n",
    "roman_To_Integer(s)\n"
   ]
  },
  {
   "cell_type": "code",
   "execution_count": null,
   "id": "54458cf1-9768-4a3d-b4c4-131a5a29d293",
   "metadata": {},
   "outputs": [],
   "source": []
  }
 ],
 "metadata": {
  "kernelspec": {
   "display_name": "Python 3 (ipykernel)",
   "language": "python",
   "name": "python3"
  },
  "language_info": {
   "codemirror_mode": {
    "name": "ipython",
    "version": 3
   },
   "file_extension": ".py",
   "mimetype": "text/x-python",
   "name": "python",
   "nbconvert_exporter": "python",
   "pygments_lexer": "ipython3",
   "version": "3.9.16"
  }
 },
 "nbformat": 4,
 "nbformat_minor": 5
}
