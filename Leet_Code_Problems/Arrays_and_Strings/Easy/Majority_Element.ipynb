{
 "cells": [
  {
   "cell_type": "code",
   "execution_count": null,
   "id": "ad2ddf7d-9649-405c-96ca-d6bdf79f7838",
   "metadata": {},
   "outputs": [],
   "source": [
    "# Given an array nums of size n, return the majority element.\n",
    "\n",
    "# The majority element is the element that appears more than ⌊n / 2⌋ times. You may assume that the majority element always exists in the array.\n",
    "\n",
    " \n",
    "\n",
    "# Example 1:\n",
    "\n",
    "# Input: nums = [3,2,3]\n",
    "# Output: 3\n",
    "# Example 2:\n",
    "\n",
    "# Input: nums = [2,2,1,1,1,2,2]\n",
    "# Output: 2"
   ]
  },
  {
   "cell_type": "code",
   "execution_count": 21,
   "id": "3b950f8f-8186-4bac-8f4b-0b24f96abaa5",
   "metadata": {},
   "outputs": [
    {
     "name": "stdout",
     "output_type": "stream",
     "text": [
      "2\n"
     ]
    }
   ],
   "source": [
    "from collections import Counter\n",
    "\n",
    "def majority_Element(nums):\n",
    "    #dict=Counter(nums)\n",
    "    for key in Counter(nums):\n",
    "        if Counter(nums)[key]>len(nums)//2:\n",
    "            print(key)\n",
    "    \n",
    "nums = [2,2,1,1,1,2,2]  \n",
    "majority_Element(nums)"
   ]
  },
  {
   "cell_type": "code",
   "execution_count": 24,
   "id": "a14ab46d-22d5-4c67-9f2d-c3e1cb9e34fd",
   "metadata": {},
   "outputs": [
    {
     "data": {
      "text/plain": [
       "2"
      ]
     },
     "execution_count": 24,
     "metadata": {},
     "output_type": "execute_result"
    }
   ],
   "source": [
    "def maj_elem(nums):\n",
    "    nums.sort()\n",
    "    return nums[len(nums)//2]\n",
    "\n",
    "nums = [2,2,1,1,1,2,2]  \n",
    "maj_elem(nums)\n",
    "\n",
    "# But nums.sort() has O(n*logn) time compl, the sp compl of the code is O(1)"
   ]
  },
  {
   "cell_type": "code",
   "execution_count": 29,
   "id": "a70ce43e-d031-4b71-b26d-9f3b7efa201d",
   "metadata": {},
   "outputs": [
    {
     "data": {
      "text/plain": [
       "2"
      ]
     },
     "execution_count": 29,
     "metadata": {},
     "output_type": "execute_result"
    }
   ],
   "source": [
    "def maj_Element(nums):\n",
    "        count = 0\n",
    "        candidate = 0\n",
    "        \n",
    "        for num in nums:\n",
    "            if count == 0:\n",
    "                candidate = num\n",
    "            \n",
    "            if num == candidate:\n",
    "                count += 1\n",
    "            else:\n",
    "                count -= 1\n",
    "        \n",
    "        return candidate\n",
    "    \n",
    "    # count=0\n",
    "    # candidate=None\n",
    "    # for num in nums:\n",
    "    #     if count==0:\n",
    "    #         candidate=nums\n",
    "    # count+=(1 if num==candidate else -1)\n",
    "    \n",
    "    # return candidate\n",
    "\n",
    "\n",
    "nums = [2,2,1,1,1,2,2]  \n",
    "maj_Element(nums)"
   ]
  },
  {
   "cell_type": "code",
   "execution_count": null,
   "id": "ece449f4-70c8-4ff5-b103-ad9d75013ca0",
   "metadata": {},
   "outputs": [],
   "source": []
  }
 ],
 "metadata": {
  "kernelspec": {
   "display_name": "Python 3 (ipykernel)",
   "language": "python",
   "name": "python3"
  },
  "language_info": {
   "codemirror_mode": {
    "name": "ipython",
    "version": 3
   },
   "file_extension": ".py",
   "mimetype": "text/x-python",
   "name": "python",
   "nbconvert_exporter": "python",
   "pygments_lexer": "ipython3",
   "version": "3.9.16"
  }
 },
 "nbformat": 4,
 "nbformat_minor": 5
}
