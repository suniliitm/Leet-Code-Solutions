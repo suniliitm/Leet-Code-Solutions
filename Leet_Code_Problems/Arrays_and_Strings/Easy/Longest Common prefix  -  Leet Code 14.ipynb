{
 "cells": [
  {
   "cell_type": "code",
   "execution_count": null,
   "id": "45fa4856-271e-42d2-8984-a312f9b56f73",
   "metadata": {},
   "outputs": [],
   "source": [
    "# Write a function to find the longest common prefix string amongst an array of strings.\n",
    "\n",
    "# If there is no common prefix, return an empty string \"\".\n",
    "\n",
    " \n",
    "\n",
    "# Example 1:\n",
    "\n",
    "# Input: strs = [\"flower\",\"flow\",\"flight\"]\n",
    "# Output: \"fl\"\n",
    "# Example 2:\n",
    "\n",
    "# Input: strs = [\"dog\",\"racecar\",\"car\"]\n",
    "# Output: \"\"\n",
    "# Explanation: There is no common prefix among the input strings.\n",
    " \n",
    "\n",
    "# Constraints:\n",
    "\n",
    "# 1 <= strs.length <= 200\n",
    "# 0 <= strs[i].length <= 200"
   ]
  },
  {
   "cell_type": "code",
   "execution_count": 8,
   "id": "98a4fe3d-1f13-4391-b0f4-bbe557f53fd1",
   "metadata": {},
   "outputs": [
    {
     "data": {
      "text/plain": [
       "['flight', 'flow', 'flower']"
      ]
     },
     "execution_count": 8,
     "metadata": {},
     "output_type": "execute_result"
    }
   ],
   "source": [
    "# strs = [\"flower\",\"flow\",\"flight\"]\n",
    "# strs=sorted(strs)"
   ]
  },
  {
   "cell_type": "code",
   "execution_count": 13,
   "id": "3fe4a71c-68a8-4d88-b184-0e6dd854f8a8",
   "metadata": {},
   "outputs": [
    {
     "data": {
      "text/plain": [
       "'fl'"
      ]
     },
     "execution_count": 13,
     "metadata": {},
     "output_type": "execute_result"
    }
   ],
   "source": [
    "def longest_Common_Prefix(strs):\n",
    "    ans=\"\"\n",
    "    strs=sorted(strs)\n",
    "    first=strs[0]\n",
    "    last=strs[-1]\n",
    "    for i in range(min(len(first),len(last))):\n",
    "        if first[i]!=last[i]:\n",
    "            return ans\n",
    "        else:\n",
    "            ans+=first[i]\n",
    "    return ans\n",
    "\n",
    "strs = [\"dog\",\"racecar\",\"car\"]\n",
    "str1= [\"flower\",\"flow\",\"flight\"]\n",
    "longest_Common_Prefix(str1)\n"
   ]
  },
  {
   "cell_type": "code",
   "execution_count": null,
   "id": "416804d3-5309-460d-91c5-9a080743d0c2",
   "metadata": {},
   "outputs": [],
   "source": []
  }
 ],
 "metadata": {
  "kernelspec": {
   "display_name": "Python 3 (ipykernel)",
   "language": "python",
   "name": "python3"
  },
  "language_info": {
   "codemirror_mode": {
    "name": "ipython",
    "version": 3
   },
   "file_extension": ".py",
   "mimetype": "text/x-python",
   "name": "python",
   "nbconvert_exporter": "python",
   "pygments_lexer": "ipython3",
   "version": "3.9.16"
  }
 },
 "nbformat": 4,
 "nbformat_minor": 5
}
