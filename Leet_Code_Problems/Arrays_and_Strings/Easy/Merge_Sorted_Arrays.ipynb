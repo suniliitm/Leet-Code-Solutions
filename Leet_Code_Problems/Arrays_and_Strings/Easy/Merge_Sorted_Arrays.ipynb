{
 "cells": [
  {
   "cell_type": "markdown",
   "id": "827d98de-d158-4295-aa5f-8eb1fb7ebe6e",
   "metadata": {},
   "source": [
    "#### Merge Sorted Arrays"
   ]
  },
  {
   "cell_type": "code",
   "execution_count": null,
   "id": "f7727817-7420-4639-a1cb-7b24597718e2",
   "metadata": {},
   "outputs": [],
   "source": [
    "# You are given two integer arrays nums1 and nums2, sorted in non-decreasing order, and two integers m and n, \n",
    "# representing the number of elements in nums1 and nums2 respectively.\n",
    "\n",
    "# Merge nums1 and nums2 into a single array sorted in non-decreasing order.\n",
    "\n",
    "# The final sorted array should not be returned by the function, but instead be stored inside the array nums1. \n",
    "# To accommodate this, nums1 has a length of m + n, where the first m elements denote the elements that should be merged,\n",
    "# and the last n elements are set to 0 and should be ignored. nums2 has a length of n.\n",
    "\n",
    " \n",
    "\n",
    "# Example 1:\n",
    "\n",
    "# Input: nums1 = [1,2,3,0,0,0], m = 3, nums2 = [2,5,6], n = 3\n",
    "# Output: [1,2,2,3,5,6]\n",
    "# Explanation: The arrays we are merging are [1,2,3] and [2,5,6].\n",
    "# The result of the merge is [1,2,2,3,5,6] with the underlined elements coming from nums1.\n",
    "# Example 2:\n",
    "\n",
    "# Input: nums1 = [1], m = 1, nums2 = [], n = 0\n",
    "# Output: [1]\n",
    "# Explanation: The arrays we are merging are [1] and [].\n",
    "# The result of the merge is [1].\n",
    "# Example 3:\n",
    "\n",
    "# Input: nums1 = [0], m = 0, nums2 = [1], n = 1\n",
    "# Output: [1]\n",
    "# Explanation: The arrays we are merging are [] and [1].\n",
    "# The result of the merge is [1].\n",
    "# Note that because m = 0, there are no elements in nums1. The 0 is only there to ensure the merge result can fit in\n",
    "# nums1.\n",
    " \n",
    "\n",
    "# Constraints:\n",
    "\n",
    "# nums1.length == m + n\n",
    "# nums2.length == n\n",
    "# 0 <= m, n <= 200\n",
    "# 1 <= m + n <= 200\n",
    "# -109 <= nums1[i], nums2[j] <= 109\n"
   ]
  },
  {
   "cell_type": "code",
   "execution_count": 15,
   "id": "c9543c1b-273c-4269-8964-3a64fce2934b",
   "metadata": {},
   "outputs": [
    {
     "data": {
      "text/plain": [
       "[1, 2, 2, 3, 5, 6]"
      ]
     },
     "execution_count": 15,
     "metadata": {},
     "output_type": "execute_result"
    }
   ],
   "source": [
    "def merge_Sorted_Arrays(nums1, m, nums2 ,n):\n",
    "    \n",
    "    last = m+n-1\n",
    "    \n",
    "    while m>0 and n>0:\n",
    "        if nums1[m-1]>=nums2[n-1]:\n",
    "            nums1[last]=nums1[m-1]\n",
    "            m-=1\n",
    "        else:\n",
    "            nums1[last]=nums2[n-1]\n",
    "            n-=1\n",
    "        last-=1\n",
    "\n",
    "    while n>0:\n",
    "        nums1[last]=nums2[n-1]\n",
    "        n,last=n-1, last-1\n",
    "            \n",
    "    return nums1\n",
    "\n",
    "            \n",
    "\n",
    "\n",
    "nums1 = [1,2,3,0,0,0]\n",
    "m = 3\n",
    "nums2 = [2,5,6]\n",
    "n = 3\n",
    "merge_Sorted_Arrays(nums1,m,nums2,n)"
   ]
  },
  {
   "cell_type": "code",
   "execution_count": 39,
   "id": "4e966c6a-a651-4263-9529-a017a65ba9b0",
   "metadata": {},
   "outputs": [
    {
     "name": "stdout",
     "output_type": "stream",
     "text": [
      "4 [1, 2, 4, 5]\n"
     ]
    }
   ],
   "source": [
    "l1=[1,2,3,3,4,5]\n",
    "val=3\n",
    "c=len(l1)\n",
    "while val in l1:\n",
    "    l1.remove(val)\n",
    "    c-=1\n",
    "\n",
    "print(c,l1)\n",
    "\n",
    "\n",
    "\n",
    "\n"
   ]
  },
  {
   "cell_type": "code",
   "execution_count": 41,
   "id": "001f3742-257b-4992-aa81-bf0a963328aa",
   "metadata": {},
   "outputs": [
    {
     "name": "stdout",
     "output_type": "stream",
     "text": [
      "1 [1, 2, 4, 5]\n",
      "2 [1, 2, 4, 5]\n",
      "3 [1, 2, 4, 5]\n",
      "4 [1, 2, 4, 5]\n"
     ]
    }
   ],
   "source": [
    "k=0\n",
    "for i in range(len(l1)):\n",
    "    if l1[i]!=val:\n",
    "        l1[k]=l1[i]\n",
    "        k+=1\n",
    "    print(k,l1)\n",
    "\n",
    "# Understan why this a better solution than the previous\n",
    "    "
   ]
  },
  {
   "cell_type": "code",
   "execution_count": null,
   "id": "342f1deb-dc3e-4ecf-bae0-c34ef4f61421",
   "metadata": {},
   "outputs": [],
   "source": []
  }
 ],
 "metadata": {
  "kernelspec": {
   "display_name": "Python 3 (ipykernel)",
   "language": "python",
   "name": "python3"
  },
  "language_info": {
   "codemirror_mode": {
    "name": "ipython",
    "version": 3
   },
   "file_extension": ".py",
   "mimetype": "text/x-python",
   "name": "python",
   "nbconvert_exporter": "python",
   "pygments_lexer": "ipython3",
   "version": "3.9.16"
  }
 },
 "nbformat": 4,
 "nbformat_minor": 5
}
