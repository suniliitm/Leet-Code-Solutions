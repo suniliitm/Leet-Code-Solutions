{
 "cells": [
  {
   "cell_type": "code",
   "execution_count": null,
   "id": "38b2c8e6-4c6d-404a-a200-7992b701859b",
   "metadata": {},
   "outputs": [],
   "source": [
    "# Example 1:\n",
    "\n",
    "# Input: nums = [1,1,2]\n",
    "# Output: 2, nums = [1,2,_]\n",
    "# Explanation: Your function should return k = 2, with the first two elements of nums being 1 and 2 respectively.\n",
    "# It does not matter what you leave beyond the returned k (hence they are underscores).\n",
    "# Example 2:\n",
    "\n",
    "# Input: nums = [0,0,1,1,1,2,2,3,3,4]\n",
    "# Output: 5, nums = [0,1,2,3,4,_,_,_,_,_]\n",
    "# Explanation: Your function should return k = 5, with the first five elements of nums being 0, 1, 2, 3, and 4 \n",
    "# respectively. It does not matter what you leave beyond the returned k (hence they are underscores)."
   ]
  },
  {
   "cell_type": "code",
   "execution_count": 3,
   "id": "b5001762-70ad-476e-a3b3-6b518c2bcb88",
   "metadata": {},
   "outputs": [
    {
     "data": {
      "text/plain": [
       "7"
      ]
     },
     "execution_count": 3,
     "metadata": {},
     "output_type": "execute_result"
    }
   ],
   "source": [
    "# method 1\n",
    "def remove_Duplicates_Sorted_Array(nums):\n",
    "    nums[:]=sorted(set(nums))    # sorted best case O(n) -coz it is already dealing with sorted arrya\n",
    "    return len(nums)             # Else O(n*logn) if sorted takes in an unsorted array\n",
    "\n",
    "\n",
    "ar1=[1,1,2,3,4,5,5,6,7]\n",
    "remove_Duplicates_Sorted_Array(ar1)\n",
    "    "
   ]
  },
  {
   "cell_type": "code",
   "execution_count": null,
   "id": "f368d7a2-eff2-4ec0-b4c9-2aebb4ba6e3e",
   "metadata": {},
   "outputs": [],
   "source": [
    "# method 2 : Loif cis a vriable is initiliazed to zero (j) that keeps track of uniq elem\n",
    "# it only counts when prev elem (nums[j]) doesnt match with nxt elem nums[i]. i begins with 1 and j with 0.\n",
    "# Both are pointers which acces prev and xt elment of nums\n",
    "\n",
    "def remove_Duplicates_Sorted_Array(nums):\n",
    "    j=0\n",
    "    for i in range(1,len(nums)):\n",
    "        if nums[j]!=nums[i]: # when nums[i] matches nums[j], j doesnt increase while i increases and moves on to nxt \n",
    "            j+=1             # counts number of unique elements, happens when num[j]!=nums[i]\n",
    "            nums[j]=nums[i]\n",
    "            \n",
    "    return j+1\n",
    "\n",
    "\n",
    "# Same logic - different way\n",
    "# k=1\n",
    "# for i in range(1, len(nums)):\n",
    "#     if nums[i]!=nums[i-1]:\n",
    "#         nums[k]=nums[i]\n",
    "#         k==1\n",
    "# return k\n"
   ]
  }
 ],
 "metadata": {
  "kernelspec": {
   "display_name": "Python 3 (ipykernel)",
   "language": "python",
   "name": "python3"
  },
  "language_info": {
   "codemirror_mode": {
    "name": "ipython",
    "version": 3
   },
   "file_extension": ".py",
   "mimetype": "text/x-python",
   "name": "python",
   "nbconvert_exporter": "python",
   "pygments_lexer": "ipython3",
   "version": "3.9.16"
  }
 },
 "nbformat": 4,
 "nbformat_minor": 5
}
