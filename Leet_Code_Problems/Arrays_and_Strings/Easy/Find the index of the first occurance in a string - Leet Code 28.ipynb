{
 "cells": [
  {
   "cell_type": "code",
   "execution_count": null,
   "id": "699a9c52-f9d1-4d11-8cb3-c7fe4c7f4556",
   "metadata": {},
   "outputs": [],
   "source": [
    "# Given two strings needle and haystack, return the index of the first occurrence of needle in haystack, or -1 if needle \n",
    "# is not part of haystack.\n",
    "\n",
    " \n",
    "\n",
    "# Example 1:\n",
    "\n",
    "# Input: haystack = \"sadbutsad\", needle = \"sad\"\n",
    "# Output: 0\n",
    "# Explanation: \"sad\" occurs at index 0 and 6.\n",
    "# The first occurrence is at index 0, so we return 0.\n",
    "# Example 2:\n",
    "\n",
    "# Input: haystack = \"leetcode\", needle = \"leeto\"\n",
    "# Output: -1\n",
    "# Explanation: \"leeto\" did not occur in \"leetcode\", so we return -1.\n",
    " \n",
    "\n",
    "# Constraints:\n",
    "\n",
    "# 1 <= haystack.length, needle.length <= 104\n",
    "# haystack and needle consist of only lowercase English characters."
   ]
  },
  {
   "cell_type": "code",
   "execution_count": 35,
   "id": "248ea67e-eaf1-4e00-92ab-a28ebd7fd23c",
   "metadata": {},
   "outputs": [
    {
     "data": {
      "text/plain": [
       "-1"
      ]
     },
     "execution_count": 35,
     "metadata": {},
     "output_type": "execute_result"
    }
   ],
   "source": [
    "def index_Of_The_First_Occurance(haystack, needle):\n",
    "    for i in range(len(haystack) - len(needle)+1):\n",
    "\n",
    "        if haystack[i:i+len(needle)]==needle:\n",
    "            return i\n",
    "\n",
    "    return -1\n",
    "        \n",
    "    \n",
    "\n",
    "\n",
    "heystack=\"hello\" \n",
    "needle =\"ll\"\n",
    "\n",
    "index_Of_The_First_Occurance(haystack, needle)\n"
   ]
  },
  {
   "cell_type": "code",
   "execution_count": null,
   "id": "797f5bfd-f873-425c-8d40-26747619f028",
   "metadata": {},
   "outputs": [],
   "source": []
  }
 ],
 "metadata": {
  "kernelspec": {
   "display_name": "Python 3 (ipykernel)",
   "language": "python",
   "name": "python3"
  },
  "language_info": {
   "codemirror_mode": {
    "name": "ipython",
    "version": 3
   },
   "file_extension": ".py",
   "mimetype": "text/x-python",
   "name": "python",
   "nbconvert_exporter": "python",
   "pygments_lexer": "ipython3",
   "version": "3.9.16"
  }
 },
 "nbformat": 4,
 "nbformat_minor": 5
}
