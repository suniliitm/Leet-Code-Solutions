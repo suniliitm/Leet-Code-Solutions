{
 "cells": [
  {
   "cell_type": "code",
   "execution_count": null,
   "id": "f781ade4-75da-4ecf-ba61-4846018dc394",
   "metadata": {},
   "outputs": [],
   "source": [
    "# Given a string s consisting of words and spaces, return the length of the last word in the string.\n",
    "\n",
    "# A word is a maximal \n",
    "# substring\n",
    "#  consisting of non-space characters only.\n",
    "\n",
    " \n",
    "\n",
    "# Example 1:\n",
    "\n",
    "# Input: s = \"Hello World\"\n",
    "# Output: 5\n",
    "# Explanation: The last word is \"World\" with length 5.\n",
    "# Example 2:\n",
    "\n",
    "# Input: s = \"   fly me   to   the moon  \"\n",
    "# Output: 4\n",
    "# Explanation: The last word is \"moon\" with length 4.\n",
    "# Example 3:\n",
    "\n",
    "# Input: s = \"luffy is still joyboy\"\n",
    "# Output: 6\n",
    "# Explanation: The last word is \"joyboy\" with length 6.\n",
    " \n",
    "\n",
    "# Constraints:\n",
    "\n",
    "# 1 <= s.length <= 104\n",
    "# s consists of only English letters and spaces ' '.\n",
    "# There will be at least one word in s."
   ]
  },
  {
   "cell_type": "code",
   "execution_count": 17,
   "id": "3569c3af-21be-45a5-8ab9-45d9187015b3",
   "metadata": {},
   "outputs": [
    {
     "data": {
      "text/plain": [
       "5"
      ]
     },
     "execution_count": 17,
     "metadata": {},
     "output_type": "execute_result"
    }
   ],
   "source": [
    "s1=\" hellow world\"\n",
    "s2=\" hellow world  \"\n",
    "def length_Of_Last_Word(s):\n",
    "    if len(s)>=1:\n",
    "        return len(s.strip().split(\" \")[-1])\n",
    "\n",
    "s= \"What can i do for you \"\n",
    "length_Of_Last_Word(s)\n",
    "length_Of_Last_Word(s1)"
   ]
  },
  {
   "cell_type": "code",
   "execution_count": null,
   "id": "c43bd962-b561-4809-94b8-f16f2083de68",
   "metadata": {},
   "outputs": [],
   "source": []
  }
 ],
 "metadata": {
  "kernelspec": {
   "display_name": "Python 3 (ipykernel)",
   "language": "python",
   "name": "python3"
  },
  "language_info": {
   "codemirror_mode": {
    "name": "ipython",
    "version": 3
   },
   "file_extension": ".py",
   "mimetype": "text/x-python",
   "name": "python",
   "nbconvert_exporter": "python",
   "pygments_lexer": "ipython3",
   "version": "3.9.16"
  }
 },
 "nbformat": 4,
 "nbformat_minor": 5
}
