{
 "cells": [
  {
   "cell_type": "code",
   "execution_count": 1,
   "id": "4d06badc-f0ed-47e1-9286-3bd8f32f8c68",
   "metadata": {},
   "outputs": [
    {
     "data": {
      "text/plain": [
       "[1, 2, 3, 4]"
      ]
     },
     "execution_count": 1,
     "metadata": {},
     "output_type": "execute_result"
    }
   ],
   "source": [
    "# You are given a large integer represented as an integer array digits, where each digits[i] is the ith digit of the integer. The digits are ordered from most significant to least significant in left-to-right order. The large integer does not contain any leading 0's.\n",
    "\n",
    "# Increment the large integer by one and return the resulting array of digits.\n",
    "\n",
    " \n",
    "\n",
    "# Example 1:\n",
    "\n",
    "# Input: digits = [1,2,3]\n",
    "# Output: [1,2,4]\n",
    "# Explanation: The array represents the integer 123.\n",
    "# Incrementing by one gives 123 + 1 = 124.\n",
    "# Thus, the result should be [1,2,4].\n",
    "# Example 2:\n",
    "\n",
    "# Input: digits = [4,3,2,1]\n",
    "# Output: [4,3,2,2]\n",
    "# Explanation: The array represents the integer 4321.\n",
    "# Incrementing by one gives 4321 + 1 = 4322.\n",
    "# Thus, the result should be [4,3,2,2].\n",
    "# Example 3:\n",
    "\n",
    "# Input: digits = [9]\n",
    "# Output: [1,0]\n",
    "# Explanation: The array represents the integer 9.\n",
    "# Incrementing by one gives 9 + 1 = 10.\n",
    "# Thus, the result should be [1,0].\n",
    " \n",
    "\n",
    "# Constraints:\n",
    "\n",
    "# 1 <= digits.length <= 100\n",
    "# 0 <= digits[i] <= 9\n",
    "# digits does not contain any leading 0's."
   ]
  },
  {
   "cell_type": "code",
   "execution_count": 4,
   "id": "2ab97384-10de-47f8-a557-70a3680152b1",
   "metadata": {},
   "outputs": [
    {
     "data": {
      "text/plain": [
       "[1, 0, 0, 0]"
      ]
     },
     "execution_count": 4,
     "metadata": {},
     "output_type": "execute_result"
    }
   ],
   "source": [
    "def plusOne(digits):\n",
    "    for i in range(len(digits)-1,-1,-1):\n",
    "        if digits[i]+1!=10:\n",
    "            digits[i]+=1\n",
    "            return digits\n",
    "        digits[i]=0\n",
    "        if i==0:\n",
    "            return [1]+digits\n",
    "\n",
    "nums=[9,9,9]\n",
    "plusOne(nums)"
   ]
  },
  {
   "cell_type": "code",
   "execution_count": null,
   "id": "db48c7ba-a54e-4c35-8e56-654ba80f60a2",
   "metadata": {},
   "outputs": [],
   "source": []
  }
 ],
 "metadata": {
  "kernelspec": {
   "display_name": "Python 3 (ipykernel)",
   "language": "python",
   "name": "python3"
  },
  "language_info": {
   "codemirror_mode": {
    "name": "ipython",
    "version": 3
   },
   "file_extension": ".py",
   "mimetype": "text/x-python",
   "name": "python",
   "nbconvert_exporter": "python",
   "pygments_lexer": "ipython3",
   "version": "3.9.16"
  }
 },
 "nbformat": 4,
 "nbformat_minor": 5
}
