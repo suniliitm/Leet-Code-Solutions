{
 "cells": [
  {
   "cell_type": "code",
   "execution_count": null,
   "id": "99f84d84-c8db-443e-ad73-bdbb48aea13d",
   "metadata": {},
   "outputs": [],
   "source": [
    "# Given a non-negative integer x, return the square root of x rounded down to the nearest integer. The returned \n",
    "# integer should be non-negative as well.\n",
    "\n",
    "# You must not use any built-in exponent function or operator.\n",
    "\n",
    "# For example, do not use pow(x, 0.5) in c++ or x ** 0.5 in python.\n",
    " \n",
    "\n",
    "# Example 1:\n",
    "\n",
    "# Input: x = 4\n",
    "# Output: 2\n",
    "# Explanation: The square root of 4 is 2, so we return 2.\n",
    "# Example 2:\n",
    "\n",
    "# Input: x = 8\n",
    "# Output: 2\n",
    "# Explanation: The square root of 8 is 2.82842..., and since we round it down to the nearest integer, 2 is returned.\n",
    " \n",
    "\n",
    "# Constraints:\n",
    "\n",
    "# 0 <= x <= 231 - 1"
   ]
  },
  {
   "cell_type": "code",
   "execution_count": 13,
   "id": "1a706509-5b10-493d-b694-f61d4f8331bb",
   "metadata": {},
   "outputs": [
    {
     "data": {
      "text/plain": [
       "5"
      ]
     },
     "execution_count": 13,
     "metadata": {},
     "output_type": "execute_result"
    }
   ],
   "source": [
    "def squareRoot(n):\n",
    "    l,r = 0, n\n",
    "    while l <= r: \n",
    "        mid = l+(r-l)//2\n",
    "        if mid**2 == n: return mid\n",
    "        elif mid**2 > n: r = mid-1\n",
    "        elif mid**2 < n: l = mid+1\n",
    "    return r\n",
    "\n",
    "squareRoot(26)\n",
    "            \n",
    "    \n",
    "    "
   ]
  },
  {
   "cell_type": "code",
   "execution_count": null,
   "id": "86377cfb-2dc4-42d3-a266-f5b0fee13bf7",
   "metadata": {},
   "outputs": [],
   "source": []
  }
 ],
 "metadata": {
  "kernelspec": {
   "display_name": "Python 3 (ipykernel)",
   "language": "python",
   "name": "python3"
  },
  "language_info": {
   "codemirror_mode": {
    "name": "ipython",
    "version": 3
   },
   "file_extension": ".py",
   "mimetype": "text/x-python",
   "name": "python",
   "nbconvert_exporter": "python",
   "pygments_lexer": "ipython3",
   "version": "3.9.16"
  }
 },
 "nbformat": 4,
 "nbformat_minor": 5
}
