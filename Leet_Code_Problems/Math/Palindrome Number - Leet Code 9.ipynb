{
 "cells": [
  {
   "cell_type": "code",
   "execution_count": 4,
   "id": "ad7766a0-5f5a-4b95-b5f6-22240967fb28",
   "metadata": {},
   "outputs": [
    {
     "data": {
      "text/plain": [
       "True"
      ]
     },
     "execution_count": 4,
     "metadata": {},
     "output_type": "execute_result"
    }
   ],
   "source": [
    "def palindromeNumber(n):\n",
    "    return str(n)==str(n)[::-1]\n",
    "\n",
    "n=121\n",
    "palindromeNumber(n)"
   ]
  },
  {
   "cell_type": "code",
   "execution_count": null,
   "id": "264a11a7-9c90-419c-a17a-bfe34d1099da",
   "metadata": {},
   "outputs": [],
   "source": []
  }
 ],
 "metadata": {
  "kernelspec": {
   "display_name": "Python 3 (ipykernel)",
   "language": "python",
   "name": "python3"
  },
  "language_info": {
   "codemirror_mode": {
    "name": "ipython",
    "version": 3
   },
   "file_extension": ".py",
   "mimetype": "text/x-python",
   "name": "python",
   "nbconvert_exporter": "python",
   "pygments_lexer": "ipython3",
   "version": "3.9.16"
  }
 },
 "nbformat": 4,
 "nbformat_minor": 5
}
