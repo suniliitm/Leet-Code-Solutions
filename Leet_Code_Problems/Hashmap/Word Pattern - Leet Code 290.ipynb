{
 "cells": [
  {
   "cell_type": "code",
   "execution_count": null,
   "id": "f4cdd178-68bf-45dd-8050-509f7e4a6213",
   "metadata": {},
   "outputs": [],
   "source": [
    "# Given a pattern and a string s, find if s follows the same pattern.\n",
    "\n",
    "# Here follow means a full match, such that there is a bijection between a letter in pattern and a non-empty word in s. \n",
    "# Specifically:\n",
    "\n",
    "# Each letter in pattern maps to exactly one unique word in s.\n",
    "# Each unique word in s maps to exactly one letter in pattern.\n",
    "# No two letters map to the same word, and no two words map to the same letter.\n",
    " \n",
    "\n",
    "# Example 1:\n",
    "\n",
    "# Input: pattern = \"abba\", s = \"dog cat cat dog\"\n",
    "\n",
    "# Output: true\n",
    "\n",
    "# Explanation:\n",
    "\n",
    "# The bijection can be established as:\n",
    "\n",
    "# 'a' maps to \"dog\".\n",
    "# 'b' maps to \"cat\".\n",
    "# Example 2:\n",
    "\n",
    "# Input: pattern = \"abba\", s = \"dog cat cat fish\"\n",
    "\n",
    "# Output: false\n",
    "\n",
    "# Example 3:\n",
    "\n",
    "# Input: pattern = \"aaaa\", s = \"dog cat cat dog\"\n",
    "\n",
    "# Output: false\n",
    "\n",
    " \n",
    "\n",
    "# Constraints:\n",
    "\n",
    "# 1 <= pattern.length <= 300\n",
    "# pattern contains only lower-case English letters.\n",
    "# 1 <= s.length <= 3000\n",
    "# s contains only lowercase English letters and spaces ' '.\n",
    "# s does not contain any leading or trailing spaces.\n",
    "# All the words in s are separated by a single space."
   ]
  },
  {
   "cell_type": "code",
   "execution_count": 18,
   "id": "defad82b-688c-461c-8903-120c01ba6b7a",
   "metadata": {},
   "outputs": [
    {
     "data": {
      "text/plain": [
       "False"
      ]
     },
     "execution_count": 18,
     "metadata": {},
     "output_type": "execute_result"
    }
   ],
   "source": [
    "def word_Pattern(pattern,s):\n",
    "    words=s.split()\n",
    "    if [pattern.index(c) for c in pattern] == [words.index(word) for word in words]:\n",
    "        return True\n",
    "    else:\n",
    "        return False\n",
    "   \n",
    "\n",
    "pattern='abba'   \n",
    "s='dog cat cat dog'\n",
    "\n",
    "word_Pattern(pattern,s)"
   ]
  },
  {
   "cell_type": "code",
   "execution_count": 19,
   "id": "32a59f63-0cc6-4317-82a0-a0c59be092e2",
   "metadata": {},
   "outputs": [
    {
     "data": {
      "text/plain": [
       "True"
      ]
     },
     "execution_count": 19,
     "metadata": {},
     "output_type": "execute_result"
    }
   ],
   "source": [
    "# Another approach\n",
    "\n",
    "def wordPattern(self, p: str, s: str) -> bool:\n",
    "    words, w_to_p = s.split(' '), dict()   # empty dictionary\n",
    "\n",
    "    if len(p) != len(words): return False\n",
    "    if len(set(p)) != len(set(words)): return False # for the case w = ['dog', 'cat'] and p = 'aa'\n",
    "\n",
    "    for i in range(len(words)):\n",
    "        if words[i] not in w_to_p: \n",
    "            w_to_p[words[i]] = p[i]\n",
    "        elif w_to_p[words[i]] != p[i]: \n",
    "            return False\n",
    "\n",
    "    return True\n",
    "\n",
    "\n",
    "pattern='abba'   \n",
    "s='dog cat cat dog'\n",
    "\n",
    "word_Pattern(pattern,s)"
   ]
  },
  {
   "cell_type": "code",
   "execution_count": 20,
   "id": "59ef9cf6-4458-4a76-b966-e4ac27e5e5cc",
   "metadata": {},
   "outputs": [
    {
     "data": {
      "text/plain": [
       "True"
      ]
     },
     "execution_count": 20,
     "metadata": {},
     "output_type": "execute_result"
    }
   ],
   "source": [
    "def wordPattern(spattern, s):\n",
    "    s = s.split()\n",
    "    return (len(set(pattern)) ==\n",
    "                len(set(s)) ==\n",
    "                len(set(zip_longest(pattern,s))))\n",
    "\n",
    "pattern='abba'   \n",
    "s='dog cat cat dog'\n",
    "\n",
    "word_Pattern(pattern,s)"
   ]
  },
  {
   "cell_type": "code",
   "execution_count": null,
   "id": "3c24b2e7-3057-4679-8d9d-eaa049f835a1",
   "metadata": {},
   "outputs": [],
   "source": []
  }
 ],
 "metadata": {
  "kernelspec": {
   "display_name": "Python 3 (ipykernel)",
   "language": "python",
   "name": "python3"
  },
  "language_info": {
   "codemirror_mode": {
    "name": "ipython",
    "version": 3
   },
   "file_extension": ".py",
   "mimetype": "text/x-python",
   "name": "python",
   "nbconvert_exporter": "python",
   "pygments_lexer": "ipython3",
   "version": "3.9.16"
  }
 },
 "nbformat": 4,
 "nbformat_minor": 5
}
