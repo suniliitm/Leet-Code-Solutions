{
 "cells": [
  {
   "cell_type": "code",
   "execution_count": null,
   "id": "fee555dc-1728-4fb2-856b-302adfec860f",
   "metadata": {},
   "outputs": [],
   "source": [
    "# Given an array of integers nums and an integer target, return indices of the two numbers such that they add up to target.\n",
    "\n",
    "# You may assume that each input would have exactly one solution, and you may not use the same element twice.\n",
    "\n",
    "# You can return the answer in any order.\n",
    "\n",
    " \n",
    "\n",
    "# Example 1:\n",
    "\n",
    "# Input: nums = [2,7,11,15], target = 9\n",
    "# Output: [0,1]\n",
    "# Explanation: Because nums[0] + nums[1] == 9, we return [0, 1].\n",
    "# Example 2:\n",
    "\n",
    "# Input: nums = [3,2,4], target = 6\n",
    "# Output: [1,2]\n",
    "# Example 3:\n",
    "\n",
    "# Input: nums = [3,3], target = 6\n",
    "# Output: [0,1]\n",
    " \n",
    "\n",
    "# Constraints:\n",
    "\n",
    "# 2 <= nums.length <= 104\n",
    "# -109 <= nums[i] <= 109\n",
    "# -109 <= target <= 109\n",
    "# Only one valid answer exists."
   ]
  },
  {
   "cell_type": "code",
   "execution_count": 1,
   "id": "51d6da6e-f2ef-4035-9d37-b9b4d1a0b173",
   "metadata": {},
   "outputs": [
    {
     "data": {
      "text/plain": [
       "[1, 2]"
      ]
     },
     "execution_count": 1,
     "metadata": {},
     "output_type": "execute_result"
    }
   ],
   "source": [
    "def two_Sum(target, nums):\n",
    "    numMap={}\n",
    "    for i in range(len(nums)):\n",
    "        compliment=target-nums[i]\n",
    "        if compliment in numMap:\n",
    "            return [numMap[compliment],i]\n",
    "        else:\n",
    "            numMap[nums[i]]=i\n",
    "    return []\n",
    "\n",
    "\n",
    "nums = [3,2,4]\n",
    "target = 6\n",
    "two_Sum(target, nums)"
   ]
  },
  {
   "cell_type": "code",
   "execution_count": null,
   "id": "72a50de9-4afe-4e63-9aa6-24b2d055ffba",
   "metadata": {},
   "outputs": [],
   "source": []
  }
 ],
 "metadata": {
  "kernelspec": {
   "display_name": "Python 3 (ipykernel)",
   "language": "python",
   "name": "python3"
  },
  "language_info": {
   "codemirror_mode": {
    "name": "ipython",
    "version": 3
   },
   "file_extension": ".py",
   "mimetype": "text/x-python",
   "name": "python",
   "nbconvert_exporter": "python",
   "pygments_lexer": "ipython3",
   "version": "3.9.16"
  }
 },
 "nbformat": 4,
 "nbformat_minor": 5
}
