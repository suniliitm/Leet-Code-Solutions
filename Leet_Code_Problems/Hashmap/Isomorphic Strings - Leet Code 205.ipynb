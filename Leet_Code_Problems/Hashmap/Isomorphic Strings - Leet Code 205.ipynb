{
 "cells": [
  {
   "cell_type": "code",
   "execution_count": null,
   "id": "98585b1e-07d9-4379-84ce-2473d7272b0c",
   "metadata": {},
   "outputs": [],
   "source": [
    "# Given two strings s and t, determine if they are isomorphic.\n",
    "\n",
    "# Two strings s and t are isomorphic if the characters in s can be replaced to get t.\n",
    "\n",
    "# All occurrences of a character must be replaced with another character while preserving the order of characters. \n",
    "# No two characters may map to the same character, but a character may map to itself.\n",
    "\n",
    " \n",
    "\n",
    "# Example 1:\n",
    "\n",
    "# Input: s = \"egg\", t = \"add\"\n",
    "\n",
    "# Output: true\n",
    "\n",
    "# Explanation:\n",
    "\n",
    "# The strings s and t can be made identical by:\n",
    "\n",
    "# Mapping 'e' to 'a'.\n",
    "# Mapping 'g' to 'd'.\n",
    "# Example 2:\n",
    "\n",
    "# Input: s = \"foo\", t = \"bar\"\n",
    "\n",
    "# Output: false\n",
    "\n",
    "# Explanation:\n",
    "\n",
    "# The strings s and t can not be made identical as 'o' needs to be mapped to both 'a' and 'r'.\n",
    "\n",
    "# Example 3:\n",
    "\n",
    "# Input: s = \"paper\", t = \"title\"\n",
    "\n",
    "# Output: true\n",
    "\n",
    " \n",
    "\n",
    "# Constraints:\n",
    "\n",
    "# 1 <= s.length <= 5 * 104\n",
    "# t.length == s.length\n",
    "# s and t consist of any valid ascii character."
   ]
  },
  {
   "cell_type": "code",
   "execution_count": 3,
   "id": "0e3f9aa4-6214-4c1f-9b54-39b879be2396",
   "metadata": {},
   "outputs": [
    {
     "name": "stdout",
     "output_type": "stream",
     "text": [
      "[0, 1, 1] [0, 1, 2]\n"
     ]
    }
   ],
   "source": [
    "s='egg'\n",
    "t='add'\n",
    "l1=[]\n",
    "l2=[]\n",
    "\n",
    "for i in s:\n",
    "    l1.append(s.index(i))\n",
    "for j in t:\n",
    "    l2.append(t.index(j))\n",
    "if l1==l2:\n",
    "    print(\"True\")\n",
    "\n",
    "print(l1,l2)"
   ]
  },
  {
   "cell_type": "code",
   "execution_count": null,
   "id": "4b1dd2ce-c579-4cf8-88c9-354f085c7fa3",
   "metadata": {},
   "outputs": [],
   "source": []
  }
 ],
 "metadata": {
  "kernelspec": {
   "display_name": "Python 3 (ipykernel)",
   "language": "python",
   "name": "python3"
  },
  "language_info": {
   "codemirror_mode": {
    "name": "ipython",
    "version": 3
   },
   "file_extension": ".py",
   "mimetype": "text/x-python",
   "name": "python",
   "nbconvert_exporter": "python",
   "pygments_lexer": "ipython3",
   "version": "3.9.16"
  }
 },
 "nbformat": 4,
 "nbformat_minor": 5
}
