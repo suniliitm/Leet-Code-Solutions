{
 "cells": [
  {
   "cell_type": "code",
   "execution_count": null,
   "id": "23bb2418-ed2d-4c30-9870-c44ad707cc55",
   "metadata": {},
   "outputs": [],
   "source": [
    "# Given two strings s and t, return true if t is an anagram of s, and false otherwise. \n",
    "\n",
    "# Example 1:\n",
    "\n",
    "# Input: s = \"anagram\", t = \"nagaram\"\n",
    "\n",
    "# Output: true\n",
    "\n",
    "# Example 2:\n",
    "\n",
    "# Input: s = \"rat\", t = \"car\"\n",
    "\n",
    "# Output: false\n",
    "\n",
    " \n",
    "\n",
    "# Constraints:\n",
    "\n",
    "# 1 <= s.length, t.length <= 5 * 104\n",
    "# s and t consist of lowercase English letters."
   ]
  },
  {
   "cell_type": "code",
   "execution_count": 3,
   "id": "72c4f381-e780-48a0-8594-e4e3d700881b",
   "metadata": {},
   "outputs": [
    {
     "data": {
      "text/plain": [
       "False"
      ]
     },
     "execution_count": 3,
     "metadata": {},
     "output_type": "execute_result"
    }
   ],
   "source": [
    "from collections import*\n",
    "\n",
    "def valid_Anagram(s,t):\n",
    "    if len(s)!=len(t):\n",
    "        return False\n",
    "    return Counter(t)==Counter(s)\n",
    "\n",
    "s = \"rat\"\n",
    "t = \"car\"\n",
    "\n",
    "valid_Anagram(s,t)"
   ]
  },
  {
   "cell_type": "code",
   "execution_count": null,
   "id": "c8e07d5c-1356-48c4-8ed8-3628e7835f17",
   "metadata": {},
   "outputs": [],
   "source": []
  }
 ],
 "metadata": {
  "kernelspec": {
   "display_name": "Python 3 (ipykernel)",
   "language": "python",
   "name": "python3"
  },
  "language_info": {
   "codemirror_mode": {
    "name": "ipython",
    "version": 3
   },
   "file_extension": ".py",
   "mimetype": "text/x-python",
   "name": "python",
   "nbconvert_exporter": "python",
   "pygments_lexer": "ipython3",
   "version": "3.9.16"
  }
 },
 "nbformat": 4,
 "nbformat_minor": 5
}
