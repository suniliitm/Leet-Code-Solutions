{
 "cells": [
  {
   "cell_type": "code",
   "execution_count": null,
   "id": "d6216962-f734-45d0-9364-dcfcee5ce77d",
   "metadata": {},
   "outputs": [],
   "source": [
    "# Given an integer array nums and an integer k, return true if there are two distinct indices i and j in the array\n",
    "# such that nums[i] == nums[j] and abs(i - j) <= k.\n",
    "\n",
    " \n",
    "\n",
    "# Example 1:\n",
    "\n",
    "# Input: nums = [1,2,3,1], k = 3\n",
    "# Output: true\n",
    "# Example 2:\n",
    "\n",
    "# Input: nums = [1,0,1,1], k = 1\n",
    "# Output: true\n",
    "# Example 3:\n",
    "\n",
    "# Input: nums = [1,2,3,1,2,3], k = 2\n",
    "# Output: false\n",
    " \n",
    "\n",
    "# Constraints:\n",
    "\n",
    "# 1 <= nums.length <= 105\n",
    "# -109 <= nums[i] <= 109\n",
    "# 0 <= k <= 105\n"
   ]
  },
  {
   "cell_type": "code",
   "execution_count": 3,
   "id": "3204009e-304f-4507-8db2-7021849a8324",
   "metadata": {},
   "outputs": [
    {
     "data": {
      "text/plain": [
       "False"
      ]
     },
     "execution_count": 3,
     "metadata": {},
     "output_type": "execute_result"
    }
   ],
   "source": [
    "def contains_Duplicate(nums,k):\n",
    "    dict={}\n",
    "    for i in range(len(nums)):\n",
    "        if nums[i] in dict and abs(i-dict[nums[i]])<=k:\n",
    "            return True\n",
    "        else:\n",
    "            dict[nums[i]]=i\n",
    "    return False\n",
    "\n",
    "nums = [1,2,3,1,2,3]\n",
    "k = 2\n",
    "contains_Duplicate(nums,k)"
   ]
  },
  {
   "cell_type": "code",
   "execution_count": 5,
   "id": "ef260887-2da2-4909-917c-77505872b4c8",
   "metadata": {},
   "outputs": [
    {
     "data": {
      "text/plain": [
       "False"
      ]
     },
     "execution_count": 5,
     "metadata": {},
     "output_type": "execute_result"
    }
   ],
   "source": [
    "# The above problem can also be approached using enumerate\n",
    "def contains_Duplicate(nums,k):\n",
    "    d={}\n",
    "    for idx, val in enumerate(nums):\n",
    "        if val in d and abs(idx-d[val])<=k:\n",
    "            return True\n",
    "        else:\n",
    "            d[val]=idx\n",
    "    return False\n",
    "\n",
    "nums = [1,2,3,1,2,3]\n",
    "k = 2\n",
    "contains_Duplicate(nums,k)    "
   ]
  },
  {
   "cell_type": "code",
   "execution_count": null,
   "id": "5e934c9c-f7e5-4a70-90ca-8f3aa043803a",
   "metadata": {},
   "outputs": [],
   "source": []
  }
 ],
 "metadata": {
  "kernelspec": {
   "display_name": "Python 3 (ipykernel)",
   "language": "python",
   "name": "python3"
  },
  "language_info": {
   "codemirror_mode": {
    "name": "ipython",
    "version": 3
   },
   "file_extension": ".py",
   "mimetype": "text/x-python",
   "name": "python",
   "nbconvert_exporter": "python",
   "pygments_lexer": "ipython3",
   "version": "3.9.16"
  }
 },
 "nbformat": 4,
 "nbformat_minor": 5
}
