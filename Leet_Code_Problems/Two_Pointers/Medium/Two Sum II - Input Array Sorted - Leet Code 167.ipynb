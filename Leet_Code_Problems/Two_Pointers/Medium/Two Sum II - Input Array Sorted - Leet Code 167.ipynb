{
 "cells": [
  {
   "cell_type": "code",
   "execution_count": null,
   "id": "aaf542d7-6caf-4baf-97a2-0ac8fa859fab",
   "metadata": {},
   "outputs": [],
   "source": [
    "# Given a 1-indexed array of integers numbers that is already sorted in non-decreasing order, find two numbers such that \n",
    "# they add up to a specific target number. Let these two numbers be numbers[index1] and numbers[index2] where 1 <= index1\n",
    "# < index2 <= numbers.length.\n",
    "\n",
    "# Return the indices of the two numbers, index1 and index2, added by one as an integer array [index1, index2] of length 2.\n",
    "\n",
    "# The tests are generated such that there is exactly one solution. You may not use the same element twice.\n",
    "\n",
    "# Your solution must use only constant extra space.\n",
    "\n",
    " \n",
    "\n",
    "# Example 1:\n",
    "\n",
    "# Input: numbers = [2,7,11,15], target = 9\n",
    "# Output: [1,2]\n",
    "# Explanation: The sum of 2 and 7 is 9. Therefore, index1 = 1, index2 = 2. We return [1, 2].\n",
    "# Example 2:\n",
    "\n",
    "# Input: numbers = [2,3,4], target = 6\n",
    "# Output: [1,3]\n",
    "# Explanation: The sum of 2 and 4 is 6. Therefore index1 = 1, index2 = 3. We return [1, 3].\n",
    "# Example 3:\n",
    "\n",
    "# Input: numbers = [-1,0], target = -1\n",
    "# Output: [1,2]\n",
    "# Explanation: The sum of -1 and 0 is -1. Therefore index1 = 1, index2 = 2. We return [1, 2].\n",
    " \n",
    "\n",
    "# Constraints:\n",
    "\n",
    "# 2 <= numbers.length <= 3 * 104\n",
    "# -1000 <= numbers[i] <= 1000\n",
    "# numbers is sorted in non-decreasing order.\n",
    "# -1000 <= target <= 1000\n",
    "# The tests are generated such that there is exactly one solution."
   ]
  },
  {
   "cell_type": "code",
   "execution_count": 5,
   "id": "f1397546-1022-4abc-a461-235772a12d73",
   "metadata": {},
   "outputs": [
    {
     "data": {
      "text/plain": [
       "[1, 2]"
      ]
     },
     "execution_count": 5,
     "metadata": {},
     "output_type": "execute_result"
    }
   ],
   "source": [
    "def twoSum2(numbers, target):\n",
    "    num_to_index = {}    \n",
    "    for i, val in enumerate(numbers):\n",
    "        complement = target - val\n",
    "        if complement in num_to_index:\n",
    "            return [num_to_index[complement]+1, i+1]\n",
    "        num_to_index[val] = i\n",
    "    return []\n",
    "\n",
    "numbers = [2,7,11,15]\n",
    "target = 9\n",
    "twoSum2(numbers, target)\n",
    "        "
   ]
  },
  {
   "cell_type": "code",
   "execution_count": null,
   "id": "1d88715b-de17-4f9a-9775-ba95f19fb506",
   "metadata": {},
   "outputs": [],
   "source": []
  }
 ],
 "metadata": {
  "kernelspec": {
   "display_name": "Python 3 (ipykernel)",
   "language": "python",
   "name": "python3"
  },
  "language_info": {
   "codemirror_mode": {
    "name": "ipython",
    "version": 3
   },
   "file_extension": ".py",
   "mimetype": "text/x-python",
   "name": "python",
   "nbconvert_exporter": "python",
   "pygments_lexer": "ipython3",
   "version": "3.9.16"
  }
 },
 "nbformat": 4,
 "nbformat_minor": 5
}
