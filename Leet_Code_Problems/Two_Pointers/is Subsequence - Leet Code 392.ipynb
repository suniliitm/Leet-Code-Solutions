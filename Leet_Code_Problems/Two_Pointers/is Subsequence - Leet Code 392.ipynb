{
 "cells": [
  {
   "cell_type": "code",
   "execution_count": null,
   "id": "f6d6e931-ea1c-4f8f-ab90-203eb0f74473",
   "metadata": {},
   "outputs": [],
   "source": [
    "# Given two strings s and t, return true if s is a subsequence of t, or false otherwise.\n",
    "\n",
    "# A subsequence of a string is a new string that is formed from the original string by deleting some\n",
    "# (can be none) of the characters without disturbing the relative positions of the remaining characters. \n",
    "# (i.e., \"ace\" is a subsequence of \"abcde\" while \"aec\" is not).\n",
    "\n",
    " \n",
    "\n",
    "# Example 1:\n",
    "\n",
    "# Input: s = \"abc\", t = \"ahbgdc\"\n",
    "# Output: true\n",
    "# Example 2:\n",
    "\n",
    "# Input: s = \"axc\", t = \"ahbgdc\"\n",
    "# Output: false\n",
    " \n",
    "\n",
    "# Constraints:\n",
    "\n",
    "# 0 <= s.length <= 100\n",
    "# 0 <= t.length <= 104\n",
    "# s and t consist only of lowercase English letters.\n",
    " \n",
    "\n",
    "# Follow up: Suppose there are lots of incoming s, say s1, s2, ..., sk where k >= 109, and you want to check one \n",
    "# by one to see if t has its subsequence. In this scenario, how would you change your code?"
   ]
  },
  {
   "cell_type": "code",
   "execution_count": 12,
   "id": "84b0593f-1d21-4b93-9ba3-d3b584761f87",
   "metadata": {},
   "outputs": [
    {
     "data": {
      "text/plain": [
       "False"
      ]
     },
     "execution_count": 12,
     "metadata": {},
     "output_type": "execute_result"
    }
   ],
   "source": [
    "\n",
    "def isSub(s,t):\n",
    "    sp=tp=0\n",
    "    while sp<len(s) and tp<len(t):          # very good logic, it completes all the char and still rem less than len\n",
    "        if s[sp]==t[tp]:\n",
    "            sp+=1\n",
    "        tp+=1\n",
    "    return sp==len(s)\n",
    "        \n",
    "        \n",
    "t = \"ahbgdc\"\n",
    "#s=\"abc\"\n",
    "s=\"axc\"\n",
    "isSub(s,t)"
   ]
  },
  {
   "cell_type": "code",
   "execution_count": 13,
   "id": "04d2f3f2-fd70-4509-9e70-510c21064eea",
   "metadata": {},
   "outputs": [],
   "source": [
    "# Dynamic Programming approach - Check it whne you solve those problems"
   ]
  },
  {
   "cell_type": "code",
   "execution_count": null,
   "id": "0753df4a-ede8-42c5-b74c-5b9ccd14802c",
   "metadata": {},
   "outputs": [],
   "source": [
    "# class Solution:\n",
    "#     def isSubsequence(self, s: str, t: str) -> bool:\n",
    "#         nxt = [{} for _ in range(len(t) + 1)]\n",
    "#         for i in range(len(t) - 1, -1, -1):\n",
    "#             nxt[i] = nxt[i + 1].copy()\n",
    "#             nxt[i][t[i]] = i + 1\n",
    "        \n",
    "#         i = 0\n",
    "#         for c in s:\n",
    "#             if c in nxt[i]:\n",
    "#                 i = nxt[i][c]\n",
    "#             else:\n",
    "#                 return False\n",
    "#         return True"
   ]
  }
 ],
 "metadata": {
  "kernelspec": {
   "display_name": "Python 3 (ipykernel)",
   "language": "python",
   "name": "python3"
  },
  "language_info": {
   "codemirror_mode": {
    "name": "ipython",
    "version": 3
   },
   "file_extension": ".py",
   "mimetype": "text/x-python",
   "name": "python",
   "nbconvert_exporter": "python",
   "pygments_lexer": "ipython3",
   "version": "3.9.16"
  }
 },
 "nbformat": 4,
 "nbformat_minor": 5
}
