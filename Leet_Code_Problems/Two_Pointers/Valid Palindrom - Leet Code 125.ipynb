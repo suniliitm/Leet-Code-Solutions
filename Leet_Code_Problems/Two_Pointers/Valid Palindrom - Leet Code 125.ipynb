{
 "cells": [
  {
   "cell_type": "code",
   "execution_count": null,
   "id": "2c108ecb-7820-42ed-a8fb-66160edd0c77",
   "metadata": {},
   "outputs": [],
   "source": [
    "# A phrase is a palindrome if, after converting all uppercase letters into lowercase letters and removing all \n",
    "# non-alphanumeric characters, it reads the same forward and backward. Alphanumeric characters include letters and numbers.\n",
    "\n",
    "# Given a string s, return true if it is a palindrome, or false otherwise.\n",
    "\n",
    " \n",
    "\n",
    "# Example 1:\n",
    "\n",
    "# Input: s = \"A man, a plan, a canal: Panama\"\n",
    "# Output: true\n",
    "# Explanation: \"amanaplanacanalpanama\" is a palindrome.\n",
    "# Example 2:\n",
    "\n",
    "# Input: s = \"race a car\"\n",
    "# Output: false\n",
    "# Explanation: \"raceacar\" is not a palindrome.\n",
    "# Example 3:\n",
    "\n",
    "# Input: s = \" \"\n",
    "# Output: true\n",
    "# Explanation: s is an empty string \"\" after removing non-alphanumeric characters.\n",
    "# Since an empty string reads the same forward and backward, it is a palindrome.\n",
    " \n",
    "\n",
    "# Constraints:\n",
    "\n",
    "# 1 <= s.length <= 2 * 105\n",
    "# s consists only of printable ASCII characters."
   ]
  },
  {
   "cell_type": "code",
   "execution_count": 5,
   "id": "ad1e795d-ca38-49e7-8da3-f826b9a1d21c",
   "metadata": {},
   "outputs": [
    {
     "data": {
      "text/plain": [
       "False"
      ]
     },
     "execution_count": 5,
     "metadata": {},
     "output_type": "execute_result"
    }
   ],
   "source": [
    "def valid_Palindrome(s):\n",
    "    s=[c.lower() for c in s if c.isalnum()]\n",
    "    return all (s[i]==s[~i] for i in range(len(s)//2))\n",
    "\n",
    "#s = \"A man, a plan, a canal: Panama\"\n",
    "s=\"race a car\"\n",
    "valid_Palindrome(s)"
   ]
  },
  {
   "cell_type": "code",
   "execution_count": null,
   "id": "f556b232-c9cf-48cc-ae5d-87b923322b17",
   "metadata": {},
   "outputs": [],
   "source": []
  }
 ],
 "metadata": {
  "kernelspec": {
   "display_name": "Python 3 (ipykernel)",
   "language": "python",
   "name": "python3"
  },
  "language_info": {
   "codemirror_mode": {
    "name": "ipython",
    "version": 3
   },
   "file_extension": ".py",
   "mimetype": "text/x-python",
   "name": "python",
   "nbconvert_exporter": "python",
   "pygments_lexer": "ipython3",
   "version": "3.9.16"
  }
 },
 "nbformat": 4,
 "nbformat_minor": 5
}
