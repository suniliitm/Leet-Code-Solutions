{
 "cells": [
  {
   "cell_type": "code",
   "execution_count": null,
   "id": "454e3ac3-ce6a-4422-8b52-357acb540bda",
   "metadata": {},
   "outputs": [],
   "source": [
    "# Given head, the head of a linked list, determine if the linked list has a cycle in it.\n",
    "\n",
    "# There is a cycle in a linked list if there is some node in the list that can be reached again by continuously following the next pointer. Internally, pos is used to denote the index of the node that tail's next pointer is connected to. Note that pos is not passed as a parameter.\n",
    "\n",
    "# Return true if there is a cycle in the linked list. Otherwise, return false.\n",
    "\n",
    " \n",
    "\n",
    "# Example 1:\n",
    "\n",
    "\n",
    "# Input: head = [3,2,0,-4], pos = 1\n",
    "# Output: true\n",
    "# Explanation: There is a cycle in the linked list, where the tail connects to the 1st node (0-indexed).\n",
    "# Example 2:\n",
    "\n",
    "\n",
    "# Input: head = [1,2], pos = 0\n",
    "# Output: true\n",
    "# Explanation: There is a cycle in the linked list, where the tail connects to the 0th node.\n",
    "\n",
    "\n",
    "# Example 3:\n",
    "\n",
    "\n",
    "# Input: head = [1], pos = -1\n",
    "# Output: false\n",
    "# Explanation: There is no cycle in the linked list.\n",
    " \n",
    "\n",
    "# Constraints:\n",
    "\n",
    "# The number of the nodes in the list is in the range [0, 104].\n",
    "# -105 <= Node.val <= 105\n",
    "# pos is -1 or a valid index in the linked-list.\n"
   ]
  },
  {
   "cell_type": "code",
   "execution_count": 3,
   "id": "d2ca47b8-8e1e-4e0b-b419-d97ca5c403e1",
   "metadata": {},
   "outputs": [],
   "source": [
    "def hasCycle(head):\n",
    "    slow=head\n",
    "    fast=head\n",
    "    while fast and fast.next:\n",
    "        slow=slow.next\n",
    "        fast=fast.next.next\n",
    "        if slow==fast:\n",
    "            return True\n",
    "    return False"
   ]
  },
  {
   "cell_type": "code",
   "execution_count": 2,
   "id": "d1116248-5ca0-429e-b31d-3a2725be5e69",
   "metadata": {},
   "outputs": [],
   "source": [
    "# Another approach using sets\n",
    "\n",
    "def hasCycle(head):\n",
    "    visited=set()\n",
    "    current_node=head\n",
    "    while current_node:\n",
    "        if current_node in visited:\n",
    "            return True\n",
    "        visted.add(current_node)\n",
    "        current_node=current_node.next\n",
    "    return False"
   ]
  },
  {
   "cell_type": "code",
   "execution_count": null,
   "id": "5e36cf34-d6c6-4341-8e04-bdd2f5ac874c",
   "metadata": {},
   "outputs": [],
   "source": []
  }
 ],
 "metadata": {
  "kernelspec": {
   "display_name": "Python 3 (ipykernel)",
   "language": "python",
   "name": "python3"
  },
  "language_info": {
   "codemirror_mode": {
    "name": "ipython",
    "version": 3
   },
   "file_extension": ".py",
   "mimetype": "text/x-python",
   "name": "python",
   "nbconvert_exporter": "python",
   "pygments_lexer": "ipython3",
   "version": "3.9.16"
  }
 },
 "nbformat": 4,
 "nbformat_minor": 5
}
