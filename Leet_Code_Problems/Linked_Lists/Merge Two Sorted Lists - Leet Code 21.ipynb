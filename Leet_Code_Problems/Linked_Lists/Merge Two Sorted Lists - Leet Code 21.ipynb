{
 "cells": [
  {
   "cell_type": "code",
   "execution_count": null,
   "id": "afa46e13-e8d6-4ca2-9d0f-3502a5eef72b",
   "metadata": {},
   "outputs": [],
   "source": [
    "# You are given the heads of two sorted linked lists list1 and list2.\n",
    "\n",
    "# Merge the two lists into one sorted list. The list should be made by splicing together the nodes of the first two lists.\n",
    "\n",
    "# Return the head of the merged linked list.\n",
    "\n",
    " \n",
    "\n",
    "# Example 1:\n",
    "\n",
    "\n",
    "# Input: list1 = [1,2,4], list2 = [1,3,4]\n",
    "# Output: [1,1,2,3,4,4]\n",
    "# Example 2:\n",
    "\n",
    "# Input: list1 = [], list2 = []\n",
    "# Output: []\n",
    "# Example 3:\n",
    "\n",
    "# Input: list1 = [], list2 = [0]\n",
    "# Output: [0]\n",
    " \n",
    "\n",
    "# Constraints:\n",
    "\n",
    "# The number of nodes in both lists is in the range [0, 50].\n",
    "# -100 <= Node.val <= 100\n",
    "# Both list1 and list2 are sorted in non-decreasing orde"
   ]
  },
  {
   "cell_type": "code",
   "execution_count": null,
   "id": "f5ea7922-e645-46b3-ae4a-9e692837f0c1",
   "metadata": {},
   "outputs": [],
   "source": [
    "Definition for singly-linked list.\n",
    "# class ListNode:\n",
    "#     def __init__(self, val=0, next=None):\n",
    "#         self.val = val\n",
    "#         self.next = next\n",
    "class Solution:\n",
    "    def mergeTwoLists(self, list1: Optional[ListNode], list2: Optional[ListNode]) -> Optional[ListNode]:\n",
    "        current=static = ListNode()\n",
    "        while list1 and list2:\n",
    "            if list1.val<list2.val:\n",
    "                current.next=list1\n",
    "                list1 = list1.next\n",
    "            else:\n",
    "                current.next=list2\n",
    "                list2 = list2.next\n",
    "            current=current.next\n",
    "        if list1 or list2:\n",
    "            current.next=list1 if list1 else list2\n",
    "\n",
    "        return static.next        \n",
    "        "
   ]
  }
 ],
 "metadata": {
  "kernelspec": {
   "display_name": "Python 3 (ipykernel)",
   "language": "python",
   "name": "python3"
  },
  "language_info": {
   "codemirror_mode": {
    "name": "ipython",
    "version": 3
   },
   "file_extension": ".py",
   "mimetype": "text/x-python",
   "name": "python",
   "nbconvert_exporter": "python",
   "pygments_lexer": "ipython3",
   "version": "3.9.16"
  }
 },
 "nbformat": 4,
 "nbformat_minor": 5
}
