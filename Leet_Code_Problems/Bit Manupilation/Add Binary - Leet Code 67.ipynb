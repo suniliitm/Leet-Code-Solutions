{
 "cells": [
  {
   "cell_type": "code",
   "execution_count": 21,
   "id": "e242157c-0c67-44f8-abc0-515a97e3ce24",
   "metadata": {},
   "outputs": [],
   "source": [
    "# Given two binary strings a and b, return their sum as a binary string.\n",
    "\n",
    "# Example 1:\n",
    "\n",
    "# Input: a = \"11\", b = \"1\"\n",
    "# Output: \"100\"\n",
    "# Example 2:\n",
    "\n",
    "# Input: a = \"1010\", b = \"1011\"\n",
    "# Output: \"10101\"\n",
    " \n",
    "\n",
    "# Constraints:\n",
    "\n",
    "# 1 <= a.length, b.length <= 104\n",
    "# a and b consist only of '0' or '1' characters.\n",
    "# Each string does not contain leading zeros except for the zero itself."
   ]
  },
  {
   "cell_type": "code",
   "execution_count": 22,
   "id": "8dfd6e59-0dcf-49ea-9853-cecd5ebd6870",
   "metadata": {},
   "outputs": [
    {
     "data": {
      "text/plain": [
       "'10101'"
      ]
     },
     "execution_count": 22,
     "metadata": {},
     "output_type": "execute_result"
    }
   ],
   "source": [
    "# 0+0=0\n",
    "# 1+0=1 ---> 1%2=1 - to the string\n",
    "# 0+1=1\n",
    "# 1+1=2=10 ----> 0 to to the string (the sume of binary digits to be determined) and 1 to the carry\n",
    "# 2%2=0 and 2//2=1 ---carry\n",
    "# 1+1+1=3=11 -----> 1 to the string and the other 1 to the carry\n",
    "# Finally I should prefix (coz we are going to deal everyting as strings) the finally left over carry to the string\n",
    "\n",
    "def binarySum(a,b):\n",
    "    s=\"\"  # final digit\n",
    "    i=len(a)-1\n",
    "    j=len(b)-1\n",
    "    carry=0\n",
    "    while i>=0 or j>=0 or carry:\n",
    "        if i>=0:\n",
    "            carry+=int(a[i])\n",
    "        i-=1\n",
    "\n",
    "        if j>=0:\n",
    "            carry+=int(b[j])\n",
    "        j-=1\n",
    "        s=str(carry%2)+s\n",
    "        carry//=2\n",
    "        \n",
    "    return s\n",
    "\n",
    "a = \"1010\"\n",
    "b = \"1011\"\n",
    "\n",
    "binarySum(a,b)\n",
    "        \n",
    "    \n",
    "        \n",
    "        \n",
    "        \n",
    "    \n"
   ]
  },
  {
   "cell_type": "markdown",
   "id": "78683488-09c2-42cf-9cb2-0843b24e43c0",
   "metadata": {},
   "source": [
    "## More intuitive approach"
   ]
  },
  {
   "cell_type": "code",
   "execution_count": 23,
   "id": "cf4c1ff1-fb74-463e-836e-7b50d4db3413",
   "metadata": {},
   "outputs": [
    {
     "data": {
      "text/plain": [
       "'10101'"
      ]
     },
     "execution_count": 23,
     "metadata": {},
     "output_type": "execute_result"
    }
   ],
   "source": [
    "def addBinary(self, a: str, b: str) -> str:\n",
    "    alen, blen = -len(a), -len(b)\n",
    "    i, carry, res = -1, 0, \"\"\n",
    "    while i>=alen or i>=blen:\n",
    "        aBit=int(a[i]) if i>=alen else 0\n",
    "        bBit=int(b[i]) if i>=blen else 0\n",
    "        sum = aBit + bBit + carry\n",
    "        res = str(sum%2) + res\n",
    "        carry =sum//2\n",
    "        i-=1\n",
    "    return \"1\"+res if carry else res\n",
    "\n",
    "\n",
    "a = \"1010\"\n",
    "b = \"1011\"\n",
    "\n",
    "binarySum(a,b)\n",
    "        "
   ]
  },
  {
   "cell_type": "code",
   "execution_count": null,
   "id": "d7391832-5346-4dda-a093-917b6e2bd238",
   "metadata": {},
   "outputs": [],
   "source": []
  }
 ],
 "metadata": {
  "kernelspec": {
   "display_name": "Python 3 (ipykernel)",
   "language": "python",
   "name": "python3"
  },
  "language_info": {
   "codemirror_mode": {
    "name": "ipython",
    "version": 3
   },
   "file_extension": ".py",
   "mimetype": "text/x-python",
   "name": "python",
   "nbconvert_exporter": "python",
   "pygments_lexer": "ipython3",
   "version": "3.9.16"
  }
 },
 "nbformat": 4,
 "nbformat_minor": 5
}
