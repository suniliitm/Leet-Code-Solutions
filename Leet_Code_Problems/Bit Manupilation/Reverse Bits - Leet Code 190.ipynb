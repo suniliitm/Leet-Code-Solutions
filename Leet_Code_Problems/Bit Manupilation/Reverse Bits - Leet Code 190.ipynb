{
 "cells": [
  {
   "cell_type": "code",
   "execution_count": 2,
   "id": "5d6dde4f-7298-44ff-b501-d027e48a3d9c",
   "metadata": {},
   "outputs": [
    {
     "data": {
      "text/plain": [
       "'654321'"
      ]
     },
     "execution_count": 2,
     "metadata": {},
     "output_type": "execute_result"
    }
   ],
   "source": [
    "def rev_str(s):\n",
    "    return s[::-1]\n",
    "\n",
    "str=\"123456\"\n",
    "rev_str(str)"
   ]
  },
  {
   "cell_type": "code",
   "execution_count": null,
   "id": "be19b894-4906-471d-b47c-829cbc6e66dc",
   "metadata": {},
   "outputs": [],
   "source": []
  }
 ],
 "metadata": {
  "kernelspec": {
   "display_name": "Python 3 (ipykernel)",
   "language": "python",
   "name": "python3"
  },
  "language_info": {
   "codemirror_mode": {
    "name": "ipython",
    "version": 3
   },
   "file_extension": ".py",
   "mimetype": "text/x-python",
   "name": "python",
   "nbconvert_exporter": "python",
   "pygments_lexer": "ipython3",
   "version": "3.9.16"
  }
 },
 "nbformat": 4,
 "nbformat_minor": 5
}
