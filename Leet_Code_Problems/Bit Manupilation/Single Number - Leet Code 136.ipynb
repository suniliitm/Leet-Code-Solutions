{
 "cells": [
  {
   "cell_type": "code",
   "execution_count": null,
   "id": "64be265a-8c38-485d-9be2-110a3d4ac883",
   "metadata": {},
   "outputs": [],
   "source": [
    "# Given a non-empty array of integers nums, every element appears twice except for one. Find that single one.\n",
    "\n",
    "# You must implement a solution with a linear runtime complexity and use only constant extra space.\n",
    "\n",
    " \n",
    "\n",
    "# Example 1:\n",
    "\n",
    "# Input: nums = [2,2,1]\n",
    "# Output: 1\n",
    "# Example 2:\n",
    "\n",
    "# Input: nums = [4,1,2,1,2]\n",
    "# Output: 4\n",
    "# Example 3:\n",
    "\n",
    "# Input: nums = [1]\n",
    "# Output: 1\n",
    " \n",
    "\n",
    "# Constraints:\n",
    "\n",
    "# 1 <= nums.length <= 3 * 104\n",
    "# -3 * 104 <= nums[i] <= 3 * 104\n",
    "# Each element in the array appears twice except for one element which appears only once."
   ]
  },
  {
   "cell_type": "code",
   "execution_count": 2,
   "id": "f8c61604-dc5c-4863-91d6-3c91666569f0",
   "metadata": {},
   "outputs": [
    {
     "data": {
      "text/plain": [
       "4"
      ]
     },
     "execution_count": 2,
     "metadata": {},
     "output_type": "execute_result"
    }
   ],
   "source": [
    "def singleNumber(nums):\n",
    "    xor=0\n",
    "    for num in nums:\n",
    "        xor^=num\n",
    "    return xor\n",
    "\n",
    "nums = [4,1,2,1,2]\n",
    "singleNumber(nums)"
   ]
  },
  {
   "cell_type": "code",
   "execution_count": null,
   "id": "25992037-905a-4273-ba31-e8397f7cbdbb",
   "metadata": {},
   "outputs": [],
   "source": []
  }
 ],
 "metadata": {
  "kernelspec": {
   "display_name": "Python 3 (ipykernel)",
   "language": "python",
   "name": "python3"
  },
  "language_info": {
   "codemirror_mode": {
    "name": "ipython",
    "version": 3
   },
   "file_extension": ".py",
   "mimetype": "text/x-python",
   "name": "python",
   "nbconvert_exporter": "python",
   "pygments_lexer": "ipython3",
   "version": "3.9.16"
  }
 },
 "nbformat": 4,
 "nbformat_minor": 5
}
