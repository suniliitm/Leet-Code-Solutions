{
 "cells": [
  {
   "cell_type": "code",
   "execution_count": null,
   "id": "606b6cf3-2adc-431c-a787-b09aae31fd13",
   "metadata": {},
   "outputs": [],
   "source": [
    "# Given a positive integer n, write a function that returns the number of \n",
    "# set bits\n",
    "#  in its binary representation (also known as the Hamming weight).\n",
    "\n",
    " \n",
    "\n",
    "# Example 1:\n",
    "\n",
    "# Input: n = 11\n",
    "\n",
    "# Output: 3\n",
    "\n",
    "# Explanation:\n",
    "\n",
    "# The input binary string 1011 has a total of three set bits.\n",
    "\n",
    "# Example 2:\n",
    "\n",
    "# Input: n = 128\n",
    "\n",
    "# Output: 1\n",
    "\n",
    "# Explanation:\n",
    "\n",
    "# The input binary string 10000000 has a total of one set bit.\n",
    "\n",
    "# Example 3:\n",
    "\n",
    "# Input: n = 2147483645\n",
    "\n",
    "# Output: 30\n",
    "\n",
    "# Explanation:\n",
    "\n",
    "# The input binary string 1111111111111111111111111111101 has a total of thirty set bits.\n",
    "\n",
    " \n",
    "\n",
    "# Constraints:\n",
    "\n"
   ]
  },
  {
   "cell_type": "code",
   "execution_count": 4,
   "id": "67b651af-2d15-404b-9806-32e79f6c2645",
   "metadata": {},
   "outputs": [
    {
     "data": {
      "text/plain": [
       "6"
      ]
     },
     "execution_count": 4,
     "metadata": {},
     "output_type": "execute_result"
    }
   ],
   "source": [
    "import collections\n",
    "from collections import Counter\n",
    "def numberOfOneBits(n):\n",
    "    counter=collections.Counter(bin(n)[2:])\n",
    "    return counter.get(\"1\",0)\n",
    "\n",
    "\n",
    "numberOfOneBits(123)\n",
    "\n"
   ]
  },
  {
   "cell_type": "code",
   "execution_count": 5,
   "id": "73935558-6bdf-44a8-bb46-284d2ecb2ea6",
   "metadata": {},
   "outputs": [
    {
     "data": {
      "text/plain": [
       "6"
      ]
     },
     "execution_count": 5,
     "metadata": {},
     "output_type": "execute_result"
    }
   ],
   "source": [
    "# Another way\n",
    "def using_bit_manipulation(n):\n",
    "    count=0\n",
    "    while n:\n",
    "        if n&1: count+=1\n",
    "        n>>=1\n",
    "    return count\n",
    "\n",
    "using_bit_manipulation(123)\n"
   ]
  },
  {
   "cell_type": "code",
   "execution_count": null,
   "id": "d3912d29-8775-435b-91e1-abf59f24fddd",
   "metadata": {},
   "outputs": [],
   "source": []
  }
 ],
 "metadata": {
  "kernelspec": {
   "display_name": "Python 3 (ipykernel)",
   "language": "python",
   "name": "python3"
  },
  "language_info": {
   "codemirror_mode": {
    "name": "ipython",
    "version": 3
   },
   "file_extension": ".py",
   "mimetype": "text/x-python",
   "name": "python",
   "nbconvert_exporter": "python",
   "pygments_lexer": "ipython3",
   "version": "3.9.16"
  }
 },
 "nbformat": 4,
 "nbformat_minor": 5
}
