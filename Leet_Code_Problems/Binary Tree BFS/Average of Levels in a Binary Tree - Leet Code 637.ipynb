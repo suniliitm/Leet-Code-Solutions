{
 "cells": [
  {
   "cell_type": "code",
   "execution_count": null,
   "id": "5cf87635-5b06-440d-8906-b6e8c07884df",
   "metadata": {},
   "outputs": [],
   "source": [
    "# Given the root of a binary tree, return the average value of the nodes on each level in the form of an array. \n",
    "# Answers within 10-5 of the actual answer will be accepted.\n",
    " \n",
    "\n",
    "# Example 1:\n",
    "\n",
    "\n",
    "# Input: root = [3,9,20,null,null,15,7]\n",
    "# Output: [3.00000,14.50000,11.00000]\n",
    "# Explanation: The average value of nodes on level 0 is 3, on level 1 is 14.5, and on level 2 is 11.\n",
    "# Hence return [3, 14.5, 11].\n",
    "# Example 2:\n",
    "\n",
    "\n",
    "# Input: root = [3,9,20,15,7]\n",
    "# Output: [3.00000,14.50000,11.00000]\n",
    " \n",
    "\n",
    "# Constraints:\n",
    "\n",
    "# The number of nodes in the tree is in the range [1, 104].\n",
    "# -231 <= Node.val <= 231 - 1"
   ]
  },
  {
   "cell_type": "code",
   "execution_count": 11,
   "id": "d870f497-5d1b-4688-8241-180337c5dd13",
   "metadata": {},
   "outputs": [
    {
     "data": {
      "text/plain": [
       "[3.0, 14.5, 11.0]"
      ]
     },
     "execution_count": 11,
     "metadata": {},
     "output_type": "execute_result"
    }
   ],
   "source": [
    "from collections import deque\n",
    "#from typing import List, Optional\n",
    "\n",
    "class TreeNode:\n",
    "    def __init__(self, val=0, left=None, right=None):\n",
    "        self.val = val\n",
    "        self.left = left\n",
    "        self.right = right\n",
    "\n",
    "class Solution:\n",
    "    def averageOfLevels(self,root):\n",
    "        avgs=[]\n",
    "        q=deque([root])\n",
    "        while q:\n",
    "            sum=0\n",
    "            qlen=len(q)\n",
    "            for _ in range(qlen):\n",
    "                node=q.popleft()\n",
    "                sum+=node.val           \n",
    "                if node.left: q.append(node.left)\n",
    "                if node.right: q.append(node.right)\n",
    "            avgs.append(sum/qlen)\n",
    "        return avgs\n",
    "\n",
    "\n",
    "\n",
    "\n",
    "root=TreeNode(3)\n",
    "root.left=TreeNode(9)\n",
    "root.right=TreeNode(20)\n",
    "root.right.left=TreeNode(15)\n",
    "root.right.right=TreeNode(7)\n",
    "averageOfLevels(root)                  "
   ]
  },
  {
   "cell_type": "code",
   "execution_count": null,
   "id": "86f91cd4-ade4-446c-b739-b92f9a74db45",
   "metadata": {},
   "outputs": [],
   "source": []
  }
 ],
 "metadata": {
  "kernelspec": {
   "display_name": "Python 3 (ipykernel)",
   "language": "python",
   "name": "python3"
  },
  "language_info": {
   "codemirror_mode": {
    "name": "ipython",
    "version": 3
   },
   "file_extension": ".py",
   "mimetype": "text/x-python",
   "name": "python",
   "nbconvert_exporter": "python",
   "pygments_lexer": "ipython3",
   "version": "3.9.16"
  }
 },
 "nbformat": 4,
 "nbformat_minor": 5
}
