{
 "cells": [
  {
   "cell_type": "code",
   "execution_count": null,
   "id": "7d414e7c-200b-4fa6-9d90-5e6d3ee24b81",
   "metadata": {},
   "outputs": [],
   "source": [
    "# Given the root of a Binary Search Tree (BST), return the minimum absolute difference between the values of any two \n",
    "# different nodes in the tree.\n",
    "\n",
    " \n",
    "\n",
    "# Example 1:\n",
    "\n",
    "\n",
    "# Input: root = [4,2,6,1,3]\n",
    "# Output: 1\n",
    "# Example 2:\n",
    "\n",
    "\n",
    "# Input: root = [1,0,48,null,null,12,49]\n",
    "# Output: 1\n",
    " \n",
    "\n",
    "# Constraints:\n",
    "\n",
    "# The number of nodes in the tree is in the range [2, 104].\n"
   ]
  },
  {
   "cell_type": "code",
   "execution_count": 3,
   "id": "a3a0fcfa-09d8-4827-b329-73f587300c3e",
   "metadata": {},
   "outputs": [
    {
     "data": {
      "text/plain": [
       "[4, 2, 6, 3, 9]"
      ]
     },
     "execution_count": 3,
     "metadata": {},
     "output_type": "execute_result"
    }
   ],
   "source": [
    "root = [4,2,6,1,3]\n",
    "root.pop(3)\n",
    "root.append(9)\n",
    "root\n"
   ]
  },
  {
   "cell_type": "code",
   "execution_count": null,
   "id": "fc6b7278-932b-4d94-acfa-4b189c7454dc",
   "metadata": {},
   "outputs": [],
   "source": [
    "class Solution:\n",
    "    def getMinimumDifference(self, root: Optional[TreeNode]) -> int:\n",
    "        cur, stack, minDiff, prev = root, [], 10**5, -10**5\n",
    "        \n",
    "        while stack or cur:\n",
    "            while cur:\n",
    "                stack.append(cur)\n",
    "                cur = cur.left\n",
    "            node = stack.pop()\n",
    "            minDiff = min(minDiff, node.val - prev)\n",
    "            prev = node.val\n",
    "            cur = node.right\n",
    "        \n",
    "        return minDiff"
   ]
  }
 ],
 "metadata": {
  "kernelspec": {
   "display_name": "Python 3 (ipykernel)",
   "language": "python",
   "name": "python3"
  },
  "language_info": {
   "codemirror_mode": {
    "name": "ipython",
    "version": 3
   },
   "file_extension": ".py",
   "mimetype": "text/x-python",
   "name": "python",
   "nbconvert_exporter": "python",
   "pygments_lexer": "ipython3",
   "version": "3.9.16"
  }
 },
 "nbformat": 4,
 "nbformat_minor": 5
}
